{
 "cells": [
  {
   "cell_type": "code",
   "execution_count": 1,
   "metadata": {},
   "outputs": [],
   "source": [
    "# A simple clock where it plays a sound after X number of minutes/seconds or at a particular time."
   ]
  },
  {
   "cell_type": "code",
   "execution_count": 3,
   "metadata": {},
   "outputs": [],
   "source": [
    "# Alarm clock"
   ]
  },
  {
   "cell_type": "code",
   "execution_count": 14,
   "metadata": {},
   "outputs": [],
   "source": [
    "import winsound,time,os,platform"
   ]
  },
  {
   "cell_type": "code",
   "execution_count": 46,
   "metadata": {},
   "outputs": [],
   "source": [
    "def sound():\n",
    "    for i in range(2): # No of time beeps repeat\n",
    "        for j in range(8):  # No of beeps\n",
    "            winsound.MessageBeep(-1)  # Sound\n",
    "            time.sleep(2)             # Time interval between each beeps\n",
    "        time.sleep(4)                 # Time interval between beeps"
   ]
  },
  {
   "cell_type": "code",
   "execution_count": 47,
   "metadata": {},
   "outputs": [],
   "source": [
    "def alarm(n):                        # Alarm function \n",
    "    print(\"wait time: \",n,\"seconds\")  # Alarm will be activated after given interval of time\n",
    "    time.sleep(n)\n",
    "    sound()            "
   ]
  },
  {
   "cell_type": "code",
   "execution_count": 48,
   "metadata": {},
   "outputs": [],
   "source": [
    "def input_time(user_input):\n",
    "    if user_input=='1':\n",
    "        user_input=int(input(\"Enter the desired hours: \"))\n",
    "        wait_time=(user_input*60)*60\n",
    "        alarm(wait_time)\n",
    "    elif user_input=='2':\n",
    "        user_input=int(input(\"Enter the desired minutes: \"))\n",
    "        wait_time=(user_input*60)\n",
    "        alarm(wait_time)\n",
    "    elif user_input=='3':\n",
    "        user_input=int(input(\"Enter the desired seconds: \"))\n",
    "        wait_time=user_input\n",
    "        alarm(wait_time)\n",
    "    elif user_input=='4':\n",
    "        hours=int(input(\"Hours: \"))\n",
    "        minutes=int(input(\"Minutes: \"))\n",
    "        seconds=int(input(\"seconds: \"))\n",
    "        wait_time=((hours*60)*60) + (minutes*60) + seconds\n",
    "        alarm(wait_time)\n",
    "    else:\n",
    "        try:\n",
    "            os.system('cls')\n",
    "            main()\n",
    "        except:\n",
    "            os.system('clear')\n",
    "            main()"
   ]
  },
  {
   "cell_type": "code",
   "execution_count": 49,
   "metadata": {},
   "outputs": [],
   "source": [
    "def main():\n",
    "    main_input=input(\"For adusting time of alarm in hours type: 1, for minutes: 2, for seconds: 3, for combination: 4 |\")\n",
    "    input_time(main_input)\n",
    "    "
   ]
  },
  {
   "cell_type": "code",
   "execution_count": 50,
   "metadata": {},
   "outputs": [
    {
     "name": "stdout",
     "output_type": "stream",
     "text": [
      "For adusting time of alarm in hours type: 1, for minutes: 2, for seconds: 3, for combination: 4 |3\n",
      "Enter the desired seconds: 8\n",
      "wait time:  8 seconds\n"
     ]
    }
   ],
   "source": [
    "main()"
   ]
  },
  {
   "cell_type": "code",
   "execution_count": 53,
   "metadata": {},
   "outputs": [],
   "source": [
    "from datetime import datetime"
   ]
  },
  {
   "cell_type": "code",
   "execution_count": 54,
   "metadata": {},
   "outputs": [],
   "source": [
    "current_time=datetime.now()"
   ]
  },
  {
   "cell_type": "code",
   "execution_count": 55,
   "metadata": {},
   "outputs": [
    {
     "name": "stdout",
     "output_type": "stream",
     "text": [
      "Current Time: 16:55:45\n"
     ]
    }
   ],
   "source": [
    "now=current_time.strftime(\"%H:%M:%S\")\n",
    "print('Current Time:',now)"
   ]
  },
  {
   "cell_type": "code",
   "execution_count": null,
   "metadata": {},
   "outputs": [],
   "source": []
  }
 ],
 "metadata": {
  "kernelspec": {
   "display_name": "Python 3",
   "language": "python",
   "name": "python3"
  },
  "language_info": {
   "codemirror_mode": {
    "name": "ipython",
    "version": 3
   },
   "file_extension": ".py",
   "mimetype": "text/x-python",
   "name": "python",
   "nbconvert_exporter": "python",
   "pygments_lexer": "ipython3",
   "version": "3.7.3"
  }
 },
 "nbformat": 4,
 "nbformat_minor": 2
}
