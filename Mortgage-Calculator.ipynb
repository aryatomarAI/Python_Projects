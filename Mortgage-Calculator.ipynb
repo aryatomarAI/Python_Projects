{
 "cells": [
  {
   "cell_type": "code",
   "execution_count": null,
   "metadata": {},
   "outputs": [],
   "source": [
    "# Calculate the monthly payments of a fixed term mortgage over given Nth terms at a given interest rate. Also figure out how \n",
    "# long it will take the user to pay back the loan. For added complexity, add an option for users to select the compounding \n",
    "# interval (Monthly, Weekly, Daily, Continually)"
   ]
  },
  {
   "cell_type": "code",
   "execution_count": 19,
   "metadata": {},
   "outputs": [
    {
     "name": "stdout",
     "output_type": "stream",
     "text": [
      "Enter mortgage term (in months): 40\n",
      "Enter interest rate: 6\n",
      "Enter loan value: 800000\n",
      "Monthly payment for a Rs800000.00, 3.33 year mortgage at 6.00 interest rate is: 22116.41\n"
     ]
    }
   ],
   "source": [
    "\n",
    "months = int(input(\"Enter mortgage term (in months): \"))    # User Input\n",
    "rate = float(input(\"Enter interest rate: \"))                # set interest rate\n",
    "loan = float(input(\"Enter loan value: \"))                   # Enter loan amount\n",
    "\n",
    "   \n",
    "\n",
    "monthly_rate = rate / 100 / 12                              # Montly_rate=rate percent/12(no of months in a year)\n",
    "payment = (monthly_rate) * loan*(((1+monthly_rate)**months)/((1+monthly_rate)**months-1))     # Payment Formula for monthly loan payment\n",
    "\n",
    "print (\"Monthly payment for a Rs{l:1.2f}, {y:1.2f} year mortgage at {r:1.2f} interest rate is: {p:1.2f}\" .format(l=loan,y= (months / 12),r=rate, p=payment))\n",
    "  # {x:1.2f} is syntax for deciding no of decimal places \n",
    "\n"
   ]
  },
  {
   "cell_type": "code",
   "execution_count": null,
   "metadata": {},
   "outputs": [],
   "source": []
  }
 ],
 "metadata": {
  "kernelspec": {
   "display_name": "Python 3",
   "language": "python",
   "name": "python3"
  },
  "language_info": {
   "codemirror_mode": {
    "name": "ipython",
    "version": 3
   },
   "file_extension": ".py",
   "mimetype": "text/x-python",
   "name": "python",
   "nbconvert_exporter": "python",
   "pygments_lexer": "ipython3",
   "version": "3.7.3"
  }
 },
 "nbformat": 4,
 "nbformat_minor": 2
}
