{
 "cells": [
  {
   "cell_type": "code",
   "execution_count": 2,
   "metadata": {},
   "outputs": [],
   "source": [
    "# We will create a program that finds the shortest path through a graph using its edges using Dijkstra's algorithm"
   ]
  },
  {
   "cell_type": "code",
   "execution_count": 21,
   "metadata": {},
   "outputs": [],
   "source": [
    "def shortest_path(graph,links_weight):\n",
    "    print(f'shortest distance from node {list(graph)[0]}')\n",
    "    distance_node={v: float('inf') for v in list(graph)}\n",
    "    start_node=list(graph)[0]\n",
    "    distance_node.pop(start_node)\n",
    "    distance=float('inf')\n",
    "    \n",
    "    for u in graph[start_node]:\n",
    "        \n",
    "        if links_weight[(start_node,u)] < distance_node[u] or links_weight[(u,start_node)]< distance_node[u]:\n",
    "            distance_node[u]=links_weight[(start_node,u)]\n",
    "                \n",
    "        try:\n",
    "            links_weight.pop((start_node,u))\n",
    "        except:\n",
    "            links_weight.pop((u,start_node))\n",
    "                    \n",
    "        if distance_node[u]<distance:\n",
    "            distance=distance_node[u]\n",
    "            new_node=u\n",
    "            \n",
    "    start_node=u\n",
    "                    \n",
    "    while len(links_weight)!=0:\n",
    "        for u in graph[start_node]:\n",
    "            \n",
    "    \n",
    "                \n",
    "              \n",
    "                \n",
    "                \n",
    "                \n",
    "    \n",
    "    \n",
    "    "
   ]
  },
  {
   "cell_type": "code",
   "execution_count": 22,
   "metadata": {},
   "outputs": [
    {
     "name": "stdout",
     "output_type": "stream",
     "text": [
      "shortest distance from node 1\n"
     ]
    },
    {
     "data": {
      "text/plain": [
       "3"
      ]
     },
     "execution_count": 22,
     "metadata": {},
     "output_type": "execute_result"
    }
   ],
   "source": [
    "graph={1:[4,2,3],4:[1,3],2:[1,3,6],3:[4,1,2,5],5:[3],6:[2,3]}\n",
    "l_w={(4,3):5,(1,4):10,(1,3):8,(3,2):4,(1,2):15,(3,5):12,(3,6):7,(2,6):5}\n",
    "shortest_path(graph,l_w)"
   ]
  },
  {
   "cell_type": "code",
   "execution_count": null,
   "metadata": {},
   "outputs": [],
   "source": []
  }
 ],
 "metadata": {
  "kernelspec": {
   "display_name": "Python 3",
   "language": "python",
   "name": "python3"
  },
  "language_info": {
   "codemirror_mode": {
    "name": "ipython",
    "version": 3
   },
   "file_extension": ".py",
   "mimetype": "text/x-python",
   "name": "python",
   "nbconvert_exporter": "python",
   "pygments_lexer": "ipython3",
   "version": "3.7.3"
  }
 },
 "nbformat": 4,
 "nbformat_minor": 2
}
