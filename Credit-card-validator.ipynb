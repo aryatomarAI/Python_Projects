{
 "cells": [
  {
   "cell_type": "code",
   "execution_count": 1,
   "metadata": {},
   "outputs": [],
   "source": [
    "# Takes in a credit card number from a common credit card vendor (Visa, MasterCard, American Express, Discover) and validates it\n",
    "# to make sure that it is a valid number (look into how credit cards use a checksum)."
   ]
  },
  {
   "cell_type": "code",
   "execution_count": 5,
   "metadata": {},
   "outputs": [],
   "source": [
    "# We are applying simple formula to check whether that card number is valid or invalid\n",
    "#if card number has 16 digits take the first 15 digits of the credit card number and then starting with the first digit \n",
    "#multiply it with 2 and then multiply the the third digit and then the fifth and so on\n",
    "# If After multiplying with 2 we get results in two digits (like we get 18) so add those digits (like 1+8=9)\n",
    "# Now add all digits of the credit card if total is divisble by 10 then it's number is valid \n",
    "# Let's start coding"
   ]
  },
  {
   "cell_type": "code",
   "execution_count": 29,
   "metadata": {},
   "outputs": [],
   "source": [
    "\n",
    "def valid_card(credit_card_number):\n",
    "    cc=credit_card_number[::-1]\n",
    "    total=0\n",
    "    for i in cc[1: :2]:\n",
    "        x=int(i)*2\n",
    "    \n",
    "        if len(str(x))==2:  \n",
    "            for a in str(x):\n",
    "                total=total+int(a)\n",
    "            \n",
    "        else:\n",
    "            total=total+int(x)\n",
    "        \n",
    "\n",
    "    for i in cc[0::2]:\n",
    "        total=total+int(i)\n",
    "    return total"
   ]
  },
  {
   "cell_type": "code",
   "execution_count": 35,
   "metadata": {},
   "outputs": [
    {
     "name": "stdout",
     "output_type": "stream",
     "text": [
      "Enter Card number to see if it's valid or not:  7869567378921235\n",
      "7869567378921235 is not a valid card number\n"
     ]
    }
   ],
   "source": [
    "credit_card_number=input(\"Enter Card number to see if it's valid or not:  \")\n",
    "valid_card(credit_card_number)\n",
    "if (int(credit_card_number[:2]) >= 51 and int(credit_card_number[:2]) <= 55 and len(credit_card_number) == 16) or \\\n",
    "    (int(credit_card_number[0]) == 4 and (len(credit_card_number) == 13 or len(credit_card_number) == 16)) or \\\n",
    "    ((int(credit_card_number[:2]) == 34 or int(credit_card_number[:2]) == 37) and len(credit_card_number) == 15) or \\\n",
    "    (int(credit_card_number[:4]) == 6011 and len(credit_card_number) == 16):\n",
    "    if valid_card(credit_card_number) % 10 == 0:\n",
    "        print (credit_card_number + ' is a valid card number')\n",
    "    else:\n",
    "        print (credit_card_number + ' is not a valid card number')\n",
    "else:\n",
    "    print (credit_card_number + ' is not a valid card number')\n"
   ]
  },
  {
   "cell_type": "code",
   "execution_count": null,
   "metadata": {},
   "outputs": [],
   "source": [
    "    "
   ]
  },
  {
   "cell_type": "code",
   "execution_count": null,
   "metadata": {},
   "outputs": [],
   "source": []
  }
 ],
 "metadata": {
  "kernelspec": {
   "display_name": "Python 3",
   "language": "python",
   "name": "python3"
  },
  "language_info": {
   "codemirror_mode": {
    "name": "ipython",
    "version": 3
   },
   "file_extension": ".py",
   "mimetype": "text/x-python",
   "name": "python",
   "nbconvert_exporter": "python",
   "pygments_lexer": "ipython3",
   "version": "3.7.3"
  }
 },
 "nbformat": 4,
 "nbformat_minor": 2
}
