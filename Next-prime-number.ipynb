{
 "cells": [
  {
   "cell_type": "code",
   "execution_count": 1,
   "metadata": {},
   "outputs": [],
   "source": [
    "# Have the program find prime numbers until the user chooses to stop asking for the next one"
   ]
  },
  {
   "cell_type": "code",
   "execution_count": 1,
   "metadata": {},
   "outputs": [],
   "source": [
    "\n",
    "def conti_or_not():\n",
    "    ask_user='Wrong'\n",
    "    while ask_user not in ['Yes','No']:\n",
    "        ask_user=input('Enter do you want to see the next prime number: (Yes or No): ')\n",
    "        if ask_user=='Yes':\n",
    "            return True\n",
    "        elif ask_user=='No':\n",
    "            return False\n",
    "               \n",
    "            \n",
    "\n",
    "    "
   ]
  },
  {
   "cell_type": "code",
   "execution_count": 2,
   "metadata": {},
   "outputs": [
    {
     "name": "stdout",
     "output_type": "stream",
     "text": [
      "Enter do you want to see the next prime number: (Yes or No): y\n",
      "Enter do you want to see the next prime number: (Yes or No): n\n",
      "Enter do you want to see the next prime number: (Yes or No): Yes\n"
     ]
    },
    {
     "data": {
      "text/plain": [
       "True"
      ]
     },
     "execution_count": 2,
     "metadata": {},
     "output_type": "execute_result"
    }
   ],
   "source": [
    "conti_or_not()"
   ]
  },
  {
   "cell_type": "code",
   "execution_count": 42,
   "metadata": {},
   "outputs": [],
   "source": [
    "def prime_num(num):\n",
    "    for i in range (2,num):\n",
    "        if (num % i)==0:\n",
    "        \n",
    "            break\n",
    "         \n",
    "    else:\n",
    "        return(num)\n",
    "       \n",
    "        \n",
    "    "
   ]
  },
  {
   "cell_type": "code",
   "execution_count": null,
   "metadata": {},
   "outputs": [],
   "source": []
  },
  {
   "cell_type": "code",
   "execution_count": null,
   "metadata": {},
   "outputs": [],
   "source": []
  }
 ],
 "metadata": {
  "kernelspec": {
   "display_name": "Python 3",
   "language": "python",
   "name": "python3"
  },
  "language_info": {
   "codemirror_mode": {
    "name": "ipython",
    "version": 3
   },
   "file_extension": ".py",
   "mimetype": "text/x-python",
   "name": "python",
   "nbconvert_exporter": "python",
   "pygments_lexer": "ipython3",
   "version": "3.7.3"
  }
 },
 "nbformat": 4,
 "nbformat_minor": 2
}
