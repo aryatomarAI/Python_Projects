{
 "cells": [
  {
   "cell_type": "code",
   "execution_count": 1,
   "metadata": {},
   "outputs": [],
   "source": [
    "# Have the program find prime numbers until the user chooses to stop asking for the next one"
   ]
  },
  {
   "cell_type": "code",
   "execution_count": 11,
   "metadata": {},
   "outputs": [],
   "source": [
    "\n",
    "def conti_or_not():     # function if you want to exit the loop\n",
    "    ask_user='Wrong'\n",
    "    while ask_user not in ['Yes','No']:\n",
    "        ask_user=input('Do you want to exit: (Yes or No): ')\n",
    "        \n",
    "    if ask_user=='Yes':\n",
    "        return True\n",
    "    else :\n",
    "        return False\n",
    "        \n",
    "            \n",
    "\n",
    "    "
   ]
  },
  {
   "cell_type": "code",
   "execution_count": 12,
   "metadata": {},
   "outputs": [
    {
     "name": "stdout",
     "output_type": "stream",
     "text": [
      "Do you want to exit: (Yes or No): yes\n",
      "Do you want to exit: (Yes or No): Yes\n"
     ]
    },
    {
     "data": {
      "text/plain": [
       "True"
      ]
     },
     "execution_count": 12,
     "metadata": {},
     "output_type": "execute_result"
    }
   ],
   "source": [
    "conti_or_not()"
   ]
  },
  {
   "cell_type": "code",
   "execution_count": 13,
   "metadata": {},
   "outputs": [],
   "source": [
    "def prime_num(num):    # giving back True if num is prime number\n",
    "    if num == 1:\n",
    "        return False\n",
    "    for i in range (2,num):\n",
    "        if (num % i)==0:\n",
    "            return False \n",
    "            break\n",
    "         \n",
    "    else:\n",
    "        return True\n",
    "       \n",
    "        \n",
    "    "
   ]
  },
  {
   "cell_type": "code",
   "execution_count": 19,
   "metadata": {},
   "outputs": [
    {
     "name": "stdout",
     "output_type": "stream",
     "text": [
      "Are you ready? (y or n): y\n",
      "The prime number is 2\n",
      "Do you want to see next prime number? (y or n): y\n",
      "The prime number is 3\n",
      "Do you want to see next prime number? (y or n): y\n",
      "The prime number is 5\n",
      "Do you want to see next prime number? (y or n): y\n",
      "The prime number is 7\n",
      "Do you want to see next prime number? (y or n): y\n",
      "The prime number is 11\n",
      "Do you want to see next prime number? (y or n): y\n",
      "The prime number is 13\n",
      "Do you want to see next prime number? (y or n): y\n",
      "The prime number is 17\n",
      "Do you want to see next prime number? (y or n): y\n",
      "The prime number is 19\n",
      "Do you want to see next prime number? (y or n): y\n",
      "The prime number is 23\n",
      "Do you want to see next prime number? (y or n): y\n",
      "The prime number is 29\n",
      "Do you want to see next prime number? (y or n): n\n",
      "Do you want to exit: (Yes or No): Yes\n"
     ]
    }
   ],
   "source": [
    "while True:     # Loop\n",
    "    choice=input('Are you ready? (y or n): ')      # If y then function will continue else function break out of loop\n",
    "    if choice=='y':\n",
    "        conti_prime=True\n",
    "    else:\n",
    "        conti_prime=False\n",
    "    current=1\n",
    "    while conti_prime:                      # While conti_prime is True loop will run\n",
    "        current +=1            \n",
    "        \n",
    "        while prime_num(current)==False:           # if current number is a prime number then it's become true and breakout loop\n",
    "            current +=1                            # If not a prime no then loop keep on running until finding a prime number\n",
    "            \n",
    "        print('The prime number is '+ str(current))\n",
    "        next_prime=input('Do you want to see next prime number? (y or n): ')\n",
    "        if next_prime=='y':                                     # After breaking out loop program will ask if you want to continue \n",
    "            continue               # If you enter y it will continue and if you enter n then it will break out of loop\n",
    "        else:\n",
    "            break\n",
    "            \n",
    "    if conti_or_not():          \n",
    "        break                     \n",
    "    \n",
    "    \n"
   ]
  },
  {
   "cell_type": "code",
   "execution_count": null,
   "metadata": {},
   "outputs": [],
   "source": []
  }
 ],
 "metadata": {
  "kernelspec": {
   "display_name": "Python 3",
   "language": "python",
   "name": "python3"
  },
  "language_info": {
   "codemirror_mode": {
    "name": "ipython",
    "version": 3
   },
   "file_extension": ".py",
   "mimetype": "text/x-python",
   "name": "python",
   "nbconvert_exporter": "python",
   "pygments_lexer": "ipython3",
   "version": "3.7.3"
  }
 },
 "nbformat": 4,
 "nbformat_minor": 2
}
