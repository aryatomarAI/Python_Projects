{
 "cells": [
  {
   "cell_type": "code",
   "execution_count": 1,
   "metadata": {},
   "outputs": [],
   "source": [
    "#Enter a number and have the program generate the Fibonacci sequence to that number or to the Nth number"
   ]
  },
  {
   "cell_type": "code",
   "execution_count": 2,
   "metadata": {},
   "outputs": [],
   "source": [
    "# Fibonacci sequence start with 0, then 1 ,0+1=1,then 1+1=2, then 1+2=3 and so on this is fibonacci sequence"
   ]
  },
  {
   "cell_type": "code",
   "execution_count": 23,
   "metadata": {},
   "outputs": [
    {
     "name": "stdout",
     "output_type": "stream",
     "text": [
      "Enter the number upto which you want to create fibonacci sequence: 11\n",
      "Your Fibonacci Sequence is: \n",
      "0\n",
      "1\n",
      "1\n",
      "2\n",
      "3\n",
      "5\n",
      "8\n",
      "13\n",
      "21\n",
      "34\n",
      "55\n"
     ]
    }
   ],
   "source": [
    "user_num=input('Enter the number upto which you want to create fibonacci sequence: ') # Getting user Input\n",
    "n1=0         # Defining n1\n",
    "n2=1         # defining n2\n",
    "try:                            # using try method if user has enter a character\n",
    "    user_input=int(user_num)   # Converting user input into integer\n",
    "    if user_input <=0:                   # If user input is less than 1\n",
    "        print('Enter a positive number!')\n",
    "    else:\n",
    "        print('Your Fibonacci Sequence is: ')    \n",
    "        for n in range(user_input):    # range upto user input\n",
    "            print(n1)                  # printing value of n1\n",
    "            nth=n1+n2                  # defining nth which is some of n1 and n2\n",
    "            n1=n2                      # assigning value of n2 to n1\n",
    "            n2=nth                     # assigning value of nth to n2\n",
    "except:\n",
    "    print(\"That's not a number!\")\n",
    "    "
   ]
  },
  {
   "cell_type": "code",
   "execution_count": null,
   "metadata": {},
   "outputs": [],
   "source": []
  }
 ],
 "metadata": {
  "kernelspec": {
   "display_name": "Python 3",
   "language": "python",
   "name": "python3"
  },
  "language_info": {
   "codemirror_mode": {
    "name": "ipython",
    "version": 3
   },
   "file_extension": ".py",
   "mimetype": "text/x-python",
   "name": "python",
   "nbconvert_exporter": "python",
   "pygments_lexer": "ipython3",
   "version": "3.7.3"
  }
 },
 "nbformat": 4,
 "nbformat_minor": 2
}
