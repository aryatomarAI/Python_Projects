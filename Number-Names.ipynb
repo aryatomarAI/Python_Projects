{
 "cells": [
  {
   "cell_type": "code",
   "execution_count": 1,
   "metadata": {},
   "outputs": [],
   "source": [
    "# Converting numbers into words "
   ]
  },
  {
   "cell_type": "code",
   "execution_count": 121,
   "metadata": {},
   "outputs": [],
   "source": [
    "def num_length(number):\n",
    "    num=str(number)\n",
    "    return len(num)"
   ]
  },
  {
   "cell_type": "code",
   "execution_count": 122,
   "metadata": {},
   "outputs": [
    {
     "data": {
      "text/plain": [
       "7"
      ]
     },
     "execution_count": 122,
     "metadata": {},
     "output_type": "execute_result"
    }
   ],
   "source": [
    "num_length(1000000)"
   ]
  },
  {
   "cell_type": "code",
   "execution_count": 123,
   "metadata": {},
   "outputs": [],
   "source": [
    "units={0:'',1:'One',2:'Two',3:'Three',4:'Four',5:'Five',6:'Six',7:'Seven',8:'Eight',9:'Nine'}\n",
    "tens={2:'Twenty',3:'Thirty',4:'Fourty',5:'Fifty',6:'Sixty',7:'Seventy',8:'Eighty',9:'Ninty'}\n",
    "teens={10:'Ten',11:'Eleven',12:'Twelve',13:'Thirteen',14:'Fourteen',15:'fifteen',16:'Sixteen',17:'Seventeen',18:'Eighteen',19:'Nineteen'}"
   ]
  },
  {
   "cell_type": "code",
   "execution_count": 124,
   "metadata": {},
   "outputs": [],
   "source": [
    "def unit(number):\n",
    "    if number==0:\n",
    "        return 'Zero'\n",
    "    else:\n",
    "        return units[number]"
   ]
  },
  {
   "cell_type": "code",
   "execution_count": 138,
   "metadata": {},
   "outputs": [],
   "source": [
    "def two_digit(number):\n",
    "    num_str=str(number)\n",
    "    if number//10==1:\n",
    "        return teens[number]\n",
    "    else:\n",
    "        return tens[int(num_str[0])] + \" \" + units[number%10]"
   ]
  },
  {
   "cell_type": "code",
   "execution_count": 142,
   "metadata": {},
   "outputs": [],
   "source": [
    "def hundred (number):\n",
    "    num_str=str(number)\n",
    "    if num_str[1]=='0':  \n",
    "        return units[int(num_str[0])] + \" Hundred \" + units[number%10]\n",
    "    elif num_str[1]=='1':\n",
    "        return units[int(num_str[0])] + \" Hundred \" + teens[int(num_str[1]+num_str[2])]\n",
    "    else:\n",
    "        return units[int(num_str[0])] + \" Hundred \" + tens[int(num_str[1])] + ' and ' + units[number%10]\n",
    "    "
   ]
  },
  {
   "cell_type": "code",
   "execution_count": 159,
   "metadata": {},
   "outputs": [],
   "source": [
    "def thousand(number):\n",
    "    num_str=str(number)\n",
    "    len_str=len(str(int(num_str[1]+num_str[2]+num_str[3])))\n",
    "    if len_str==1:\n",
    "        return units[int(num_str[0])] + \" Thousand \" + unit(int(num_str[3]))\n",
    "    elif len_str==2: \n",
    "        return units[int(num_str[0])] + \" Thousand \" + two_digits(int(num_str[2]+num_str[3]))\n",
    "    else:\n",
    "        return units[int(num_str[0])] + \" Thousand \" + hundred(int(num_str[1]+num_str[2]+num_str[3]))"
   ]
  },
  {
   "cell_type": "code",
   "execution_count": 160,
   "metadata": {},
   "outputs": [
    {
     "data": {
      "text/plain": [
       "'One Thousand One'"
      ]
     },
     "execution_count": 160,
     "metadata": {},
     "output_type": "execute_result"
    }
   ],
   "source": [
    "thousand(1001)"
   ]
  },
  {
   "cell_type": "code",
   "execution_count": 161,
   "metadata": {},
   "outputs": [],
   "source": [
    "\n",
    "def num_words(number):\n",
    "    num_str=str(number)\n",
    "    if num_length(number)==1:\n",
    "        return unit(number)\n",
    "    if num_length(number)==2:\n",
    "        return two_digit(number)\n",
    "    if num_length(number)==3:\n",
    "        return hundred(number)\n",
    "    if num_length(number)==4:\n",
    "        return thousand(number)\n",
    "        \n",
    "    \n",
    "        \n",
    "        \n",
    "    \n",
    "     "
   ]
  },
  {
   "cell_type": "code",
   "execution_count": 162,
   "metadata": {},
   "outputs": [
    {
     "data": {
      "text/plain": [
       "'One Hundred Two'"
      ]
     },
     "execution_count": 162,
     "metadata": {},
     "output_type": "execute_result"
    }
   ],
   "source": [
    "num_words(102)"
   ]
  },
  {
   "cell_type": "code",
   "execution_count": 163,
   "metadata": {},
   "outputs": [],
   "source": [
    "\n",
    "\n",
    "\n",
    "\n"
   ]
  },
  {
   "cell_type": "code",
   "execution_count": 164,
   "metadata": {},
   "outputs": [
    {
     "data": {
      "text/plain": [
       "1"
      ]
     },
     "execution_count": 164,
     "metadata": {},
     "output_type": "execute_result"
    }
   ],
   "source": []
  },
  {
   "cell_type": "code",
   "execution_count": null,
   "metadata": {},
   "outputs": [],
   "source": []
  }
 ],
 "metadata": {
  "kernelspec": {
   "display_name": "Python 3",
   "language": "python",
   "name": "python3"
  },
  "language_info": {
   "codemirror_mode": {
    "name": "ipython",
    "version": 3
   },
   "file_extension": ".py",
   "mimetype": "text/x-python",
   "name": "python",
   "nbconvert_exporter": "python",
   "pygments_lexer": "ipython3",
   "version": "3.7.3"
  }
 },
 "nbformat": 4,
 "nbformat_minor": 2
}
