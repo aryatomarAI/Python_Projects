{
 "cells": [
  {
   "cell_type": "code",
   "execution_count": 1,
   "metadata": {},
   "outputs": [],
   "source": [
    "# Converting numbers into words \n",
    "# This function can convert a number into words upto 99,99,999\n",
    "# It's Based on Indian Number System"
   ]
  },
  {
   "cell_type": "code",
   "execution_count": 186,
   "metadata": {},
   "outputs": [],
   "source": [
    "def num_length(number):\n",
    "    num=str(number)\n",
    "    return len(num)"
   ]
  },
  {
   "cell_type": "code",
   "execution_count": 187,
   "metadata": {},
   "outputs": [
    {
     "data": {
      "text/plain": [
       "7"
      ]
     },
     "execution_count": 187,
     "metadata": {},
     "output_type": "execute_result"
    }
   ],
   "source": [
    "num_length(1000000)"
   ]
  },
  {
   "cell_type": "code",
   "execution_count": 211,
   "metadata": {},
   "outputs": [],
   "source": [
    "units={0:'',1:'One',2:'Two',3:'Three',4:'Four',5:'Five',6:'Six',7:'Seven',8:'Eight',9:'Nine'}\n",
    "tens={2:'Twenty',3:'Thirty',4:'Fourty',5:'Fifty',6:'Sixty',7:'Seventy',8:'Eighty',9:'Ninty'}\n",
    "teens={10:'Ten',11:'Eleven',12:'Twelve',13:'Thirteen',14:'Fourteen',15:'Fifteen',16:'Sixteen',17:'Seventeen',18:'Eighteen',19:'Nineteen'}"
   ]
  },
  {
   "cell_type": "code",
   "execution_count": 124,
   "metadata": {},
   "outputs": [],
   "source": [
    "def unit(number):   # Function for units\n",
    "    if number==0:\n",
    "        return 'Zero'\n",
    "    else:\n",
    "        return units[number]"
   ]
  },
  {
   "cell_type": "code",
   "execution_count": 138,
   "metadata": {},
   "outputs": [],
   "source": [
    "def two_digit(number):   # Function for two digit numbers\n",
    "    num_str=str(number)\n",
    "    if number//10==1:\n",
    "        return teens[number]\n",
    "    else:\n",
    "        return tens[int(num_str[0])] + \" \" + units[number%10]"
   ]
  },
  {
   "cell_type": "code",
   "execution_count": 193,
   "metadata": {},
   "outputs": [],
   "source": [
    "def hundred (number):  # Function for three digit numbers\n",
    "    num_str=str(number)\n",
    "    if num_str[1]=='0':  \n",
    "        return units[int(num_str[0])] + \" Hundred \" + 'and ' + units[number%10]\n",
    "    elif num_str[1]=='1':\n",
    "        return units[int(num_str[0])] + \" Hundred \" + 'and ' + teens[int(num_str[1]+num_str[2])]\n",
    "    else:\n",
    "        return units[int(num_str[0])] + \" Hundred \" + 'and '+tens[int(num_str[1])]+ \" \" + units[number%10]\n",
    "    "
   ]
  },
  {
   "cell_type": "code",
   "execution_count": 218,
   "metadata": {},
   "outputs": [],
   "source": [
    "def thousand(number):   # Function for converting into Thousands\n",
    "    num_str=str(number)\n",
    "    \n",
    "    if len(num_str)==4:\n",
    "        num_str='0'+ num_str   \n",
    "        len_str=len(str(int(num_str[2]+num_str[3]+num_str[4])))\n",
    "        if len_str==1:\n",
    "            return units[int(num_str[1])] + \" Thousand \" + units[number%10]\n",
    "        elif len_str==2: \n",
    "            return units[int(num_str[1])] + \" Thousand \" + two_digit(int(num_str[3]+num_str[4]))\n",
    "        else:\n",
    "            return units[int(num_str[1])] + \" Thousand \" + hundred(int(num_str[2]+num_str[3]+num_str[4]))\n",
    "        \n",
    "    else:\n",
    "        len_str=len(str(int(num_str[2]+num_str[3]+num_str[4])))\n",
    "        if len_str==1:\n",
    "            return two_digit(int(num_str[0]+num_str[1])) + \" Thousand \" + units[number%10]\n",
    "        elif len_str==2: \n",
    "            return two_digit(int(num_str[0]+num_str[1])) + \" Thousand \" + two_digit(int(num_str[3]+num_str[4]))\n",
    "        else:\n",
    "            return two_digit(int(num_str[0]+num_str[1])) + \" Thousand \" + hundred(int(num_str[2]+num_str[3]+num_str[4]))\n",
    "        "
   ]
  },
  {
   "cell_type": "code",
   "execution_count": 230,
   "metadata": {},
   "outputs": [],
   "source": [
    "def lakhs(number):     # Function for Lakhs\n",
    "    num_str=str(number)\n",
    "    if len(num_str)==6:\n",
    "        num_str='0'+num_str\n",
    "        len_str=len(str(int(num_str[2]+num_str[3]+num_str[4]+num_str[5]+num_str[6])))\n",
    "        if len_str==1:\n",
    "            return units[int(num_str[1])] + \" Lakh \" + units[number%10]\n",
    "        elif len_str==2:\n",
    "            return units[int(num_str[1])] + \" Lakh \" + two_digit(int(num_str[5]+num_str[6]))\n",
    "        elif len_str==3:\n",
    "            return units[int(num_str[1])] + \" Lakh \" + hundred(int(num_str[4]+num_str[5]+num_str[6]))\n",
    "        else:\n",
    "            return units[int(num_str[1])] + \" Lakh \" + thousand(int(num_str[2]+num_str[3]+num_str[4]+num_str[5]+num_str[6]))\n",
    "        \n",
    "    else:\n",
    "        len_str=len(str(int(num_str[2]+num_str[3]+num_str[4]+num_str[5]+num_str[6])))\n",
    "        if len_str==1:\n",
    "            return two_digit(int(num_str[0]+num_str[1])) + \" Lakh \" + units[number%10]\n",
    "        elif len_str==2:\n",
    "            return two_digit(int(num_str[0]+num_str[1])) + \" Lakh \" + two_digit(int(num_str[5]+num_str[6]))\n",
    "        elif len_str==3:\n",
    "            return two_digit(int(num_str[0]+num_str[1])) + \" Lakh \" + hundred(int(num_str[4]+num_str[5]+num_str[6]))\n",
    "        else:\n",
    "            return two_digit(int(num_str[0]+num_str[1])) + \" Lakh \" + thousand(int(num_str[2]+num_str[3]+num_str[4]+num_str[5]+num_str[6]))\n",
    "        "
   ]
  },
  {
   "cell_type": "code",
   "execution_count": 231,
   "metadata": {},
   "outputs": [],
   "source": [
    "\n",
    "def num_words(number):\n",
    "    num_str=str(number)\n",
    "    if num_length(number)==1:\n",
    "        return unit(number)\n",
    "    elif num_length(number)==2:\n",
    "        return two_digit(number)\n",
    "    elif num_length(number)==3:\n",
    "        return hundred(number)\n",
    "    elif num_length(number)==4 or num_length(number)==5:\n",
    "        return thousand(number)\n",
    "    else:\n",
    "        return lakhs(number)\n",
    "        \n",
    "    \n",
    "        \n",
    "        \n",
    "    \n",
    "     "
   ]
  },
  {
   "cell_type": "code",
   "execution_count": 238,
   "metadata": {},
   "outputs": [
    {
     "data": {
      "text/plain": [
       "'Ninty Nine Lakh Ninty Nine Thousand Nine Hundred and Ninty Nine'"
      ]
     },
     "execution_count": 238,
     "metadata": {},
     "output_type": "execute_result"
    }
   ],
   "source": [
    "num_words(9999999)"
   ]
  },
  {
   "cell_type": "code",
   "execution_count": 239,
   "metadata": {},
   "outputs": [
    {
     "data": {
      "text/plain": [
       "'Twelve'"
      ]
     },
     "execution_count": 239,
     "metadata": {},
     "output_type": "execute_result"
    }
   ],
   "source": [
    "num_words(12)"
   ]
  },
  {
   "cell_type": "code",
   "execution_count": 240,
   "metadata": {},
   "outputs": [
    {
     "data": {
      "text/plain": [
       "'Seven Hundred and Eighty Three'"
      ]
     },
     "execution_count": 240,
     "metadata": {},
     "output_type": "execute_result"
    }
   ],
   "source": [
    "num_words(783)"
   ]
  },
  {
   "cell_type": "code",
   "execution_count": 241,
   "metadata": {},
   "outputs": [
    {
     "data": {
      "text/plain": [
       "'Thirteen Thousand Seven Hundred and Sixty Nine'"
      ]
     },
     "execution_count": 241,
     "metadata": {},
     "output_type": "execute_result"
    }
   ],
   "source": [
    "num_words(13769)"
   ]
  },
  {
   "cell_type": "code",
   "execution_count": 242,
   "metadata": {},
   "outputs": [
    {
     "data": {
      "text/plain": [
       "'Twelve Lakh Sixty Seven Thousand Seven Hundred and Eighty Nine'"
      ]
     },
     "execution_count": 242,
     "metadata": {},
     "output_type": "execute_result"
    }
   ],
   "source": [
    "num_words(1267789)"
   ]
  },
  {
   "cell_type": "code",
   "execution_count": null,
   "metadata": {},
   "outputs": [],
   "source": []
  }
 ],
 "metadata": {
  "kernelspec": {
   "display_name": "Python 3",
   "language": "python",
   "name": "python3"
  },
  "language_info": {
   "codemirror_mode": {
    "name": "ipython",
    "version": 3
   },
   "file_extension": ".py",
   "mimetype": "text/x-python",
   "name": "python",
   "nbconvert_exporter": "python",
   "pygments_lexer": "ipython3",
   "version": "3.7.3"
  }
 },
 "nbformat": 4,
 "nbformat_minor": 2
}
