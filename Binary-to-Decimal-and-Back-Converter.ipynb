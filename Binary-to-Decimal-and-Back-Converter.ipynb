{
 "cells": [
  {
   "cell_type": "code",
   "execution_count": null,
   "metadata": {},
   "outputs": [],
   "source": [
    "# Develop a converter to convert a decimal number to binary or a binary number to its decimal equivalent\n"
   ]
  },
  {
   "cell_type": "code",
   "execution_count": 9,
   "metadata": {},
   "outputs": [],
   "source": [
    "def decimal_to_binary(num,deci_plac):\n",
    "    binary=\" \"\n",
    "    round_num=int(num)\n",
    "    fractional_part=num-round_num\n",
    "    while (round_num):\n",
    "        remainder=round_num%2\n",
    "        binary +=str(remainder)\n",
    "        \n",
    "        round_num=round_num//2\n",
    "    binary=binary[ : :-1]\n",
    "    binary=binary+'.'\n",
    "    while (deci_plac):\n",
    "        fractional_part=fractional_part*2\n",
    "        frac_bit=int(fractional_part)\n",
    "        if frac_bit==1:\n",
    "            fractional_part=fractional_part-frac_bit\n",
    "            binary+='1'\n",
    "        else:\n",
    "            binary+='0'\n",
    "        deci_plac-=1\n",
    "            \n",
    "    return binary"
   ]
  },
  {
   "cell_type": "code",
   "execution_count": 10,
   "metadata": {},
   "outputs": [
    {
     "name": "stdout",
     "output_type": "stream",
     "text": [
      "100010 .00111\n"
     ]
    }
   ],
   "source": [
    "if __name__ == \"__main__\" :\n",
    "    num=34.23\n",
    "    deci_plac=5\n",
    "    print (decimal_to_binary(num,deci_plac))"
   ]
  },
  {
   "cell_type": "code",
   "execution_count": null,
   "metadata": {},
   "outputs": [],
   "source": [
    "\n",
    "\n"
   ]
  },
  {
   "cell_type": "code",
   "execution_count": null,
   "metadata": {},
   "outputs": [],
   "source": [
    "\n"
   ]
  },
  {
   "cell_type": "code",
   "execution_count": null,
   "metadata": {},
   "outputs": [],
   "source": []
  }
 ],
 "metadata": {
  "kernelspec": {
   "display_name": "Python 3",
   "language": "python",
   "name": "python3"
  },
  "language_info": {
   "codemirror_mode": {
    "name": "ipython",
    "version": 3
   },
   "file_extension": ".py",
   "mimetype": "text/x-python",
   "name": "python",
   "nbconvert_exporter": "python",
   "pygments_lexer": "ipython3",
   "version": "3.7.3"
  }
 },
 "nbformat": 4,
 "nbformat_minor": 2
}
