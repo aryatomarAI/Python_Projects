{
 "cells": [
  {
   "cell_type": "code",
   "execution_count": 1,
   "metadata": {},
   "outputs": [],
   "source": [
    "# code that simulates flipping a single coin however many times the user decides. The code should record the outcomes and count\n",
    "# the number of tails and heads"
   ]
  },
  {
   "cell_type": "code",
   "execution_count": 3,
   "metadata": {},
   "outputs": [],
   "source": [
    "import random   # Importing random module to choose randomly from heads and tails\n",
    "from collections import Counter   # Importing counter to count no of heads and tails you got"
   ]
  },
  {
   "cell_type": "code",
   "execution_count": 4,
   "metadata": {},
   "outputs": [],
   "source": [
    "def flip_coin():   # Function for choosing randomly from heads and tails \n",
    "    coin=['Heads','Tails']\n",
    "    return random.choice(coin)"
   ]
  },
  {
   "cell_type": "code",
   "execution_count": 9,
   "metadata": {},
   "outputs": [
    {
     "data": {
      "text/plain": [
       "'Heads'"
      ]
     },
     "execution_count": 9,
     "metadata": {},
     "output_type": "execute_result"
    }
   ],
   "source": [
    "flip_coin()"
   ]
  },
  {
   "cell_type": "code",
   "execution_count": 10,
   "metadata": {},
   "outputs": [],
   "source": [
    "def main():\n",
    "    coin_count=[]    # Counter list \n",
    "    user=input(\"Do you want to flip the coin?(Yes or No) \")   # User input if he wants to flip the coin\n",
    "    while user not in ['Yes','No','no','yes']:   # If he makes an invalid choice\n",
    "        print('Invalid Input') \n",
    "        user=input('Enter Yes or No: ')\n",
    "    if user in ['Yes','yes']:          # If he choose to flip the coin\n",
    "        print(f\"It's a {flip_coin()}\")     \n",
    "        coin_count.append(flip_coin())   # Appending that result to the coin_count result\n",
    "        conti_flip=True\n",
    "    else:                              # If he chooses to exit\n",
    "        print('Okay')\n",
    "        conti_flip=False\n",
    "        \n",
    "    while conti_flip:                  # If he wants to continue\n",
    "        coin=input(\"Do you want to flip the coin again:(Yes or No) \")\n",
    "        while coin not in ['Yes','No','no','yes']:\n",
    "            print('Invalid Input')\n",
    "            coin=input('Enter Yes or No: ')\n",
    "        if coin in ['Yes','yes']:\n",
    "            print(f\"It's a {flip_coin()}\")\n",
    "            coin_count.append(flip_coin())\n",
    "            conti_flip=True\n",
    "        else:\n",
    "            print('Okay')\n",
    "            conti_flip=False\n",
    "            print(Counter(coin_count))\n",
    "            break\n",
    "        \n",
    "        \n",
    "        "
   ]
  },
  {
   "cell_type": "code",
   "execution_count": 11,
   "metadata": {},
   "outputs": [
    {
     "name": "stdout",
     "output_type": "stream",
     "text": [
      "Do you want to flip the coin?(Yes or No) Yes\n",
      "It's a Tails\n",
      "Do you want to flip the coin again:(Yes or No) Yes\n",
      "It's a Heads\n",
      "Do you want to flip the coin again:(Yes or No) Yes\n",
      "It's a Heads\n",
      "Do you want to flip the coin again:(Yes or No) Yes\n",
      "It's a Tails\n",
      "Do you want to flip the coin again:(Yes or No) Yes\n",
      "It's a Heads\n",
      "Do you want to flip the coin again:(Yes or No) No\n",
      "Okay\n",
      "Counter({'Heads': 3, 'Tails': 2})\n"
     ]
    }
   ],
   "source": [
    "main()"
   ]
  },
  {
   "cell_type": "code",
   "execution_count": null,
   "metadata": {},
   "outputs": [],
   "source": []
  }
 ],
 "metadata": {
  "kernelspec": {
   "display_name": "Python 3",
   "language": "python",
   "name": "python3"
  },
  "language_info": {
   "codemirror_mode": {
    "name": "ipython",
    "version": 3
   },
   "file_extension": ".py",
   "mimetype": "text/x-python",
   "name": "python",
   "nbconvert_exporter": "python",
   "pygments_lexer": "ipython3",
   "version": "3.7.3"
  }
 },
 "nbformat": 4,
 "nbformat_minor": 2
}
