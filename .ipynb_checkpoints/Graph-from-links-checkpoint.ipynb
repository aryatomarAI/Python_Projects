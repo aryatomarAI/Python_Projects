{
 "cells": [
  {
   "cell_type": "code",
   "execution_count": 1,
   "metadata": {},
   "outputs": [],
   "source": [
    "# we will create a program that will create a graph or network from a series of links"
   ]
  },
  {
   "cell_type": "code",
   "execution_count": 1,
   "metadata": {},
   "outputs": [],
   "source": [
    "def check_node(node,graph):  # Function for checking if node is in the graph or not \n",
    "    if node in graph:\n",
    "        return True\n",
    "    else:\n",
    "        return False\n",
    "        "
   ]
  },
  {
   "cell_type": "code",
   "execution_count": 21,
   "metadata": {},
   "outputs": [],
   "source": [
    "def graph_links(links):\n",
    "    graph={}       # empty graph\n",
    "    for link in links:   # iterate throughs the links list\n",
    "        for node in link:  # iterate trhrough each link\n",
    "            if not check_node(node,graph): # if link is not in the graph then \n",
    "                graph[node]=[]        # node key which has no value\n",
    "        graph[link[0]].append(link[1]) # assigning value to the key\n",
    "        graph[link[1]].append(link[0])\n",
    "    return graph              # returning graph\n",
    "            "
   ]
  },
  {
   "cell_type": "code",
   "execution_count": 22,
   "metadata": {},
   "outputs": [
    {
     "data": {
      "text/plain": [
       "{1: [2, 5], 2: [1, 4], 4: [2, 5, 6], 5: [1, 4], 6: [4]}"
      ]
     },
     "execution_count": 22,
     "metadata": {},
     "output_type": "execute_result"
    }
   ],
   "source": [
    "links=[(1,2),(2,4),(1,5),(5,4),(4,6)] # List of links\n",
    "graph_links(links)       # Output : node connected to other nodes through edges"
   ]
  },
  {
   "cell_type": "code",
   "execution_count": null,
   "metadata": {},
   "outputs": [],
   "source": []
  },
  {
   "cell_type": "code",
   "execution_count": null,
   "metadata": {},
   "outputs": [],
   "source": []
  }
 ],
 "metadata": {
  "kernelspec": {
   "display_name": "Python 3",
   "language": "python",
   "name": "python3"
  },
  "language_info": {
   "codemirror_mode": {
    "name": "ipython",
    "version": 3
   },
   "file_extension": ".py",
   "mimetype": "text/x-python",
   "name": "python",
   "nbconvert_exporter": "python",
   "pygments_lexer": "ipython3",
   "version": "3.7.3"
  }
 },
 "nbformat": 4,
 "nbformat_minor": 2
}
