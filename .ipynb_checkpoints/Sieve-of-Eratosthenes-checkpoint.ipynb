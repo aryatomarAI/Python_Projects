{
 "cells": [
  {
   "cell_type": "code",
   "execution_count": 1,
   "metadata": {},
   "outputs": [],
   "source": [
    "# The sieve of Eratosthenes is one of the most efficient ways to find all primes smaller than n when n is smaller than 10\n",
    "# million or so"
   ]
  },
  {
   "cell_type": "code",
   "execution_count": 2,
   "metadata": {},
   "outputs": [],
   "source": [
    "# Steps\n",
    "# 1. We create a list of all numbers from 2 to given number\n",
    "# 2. According to the algorithm we will mark all the numbers which are divisible by 2 and are greater than or equal to the \n",
    "# square of it\n",
    "# 3. Now we move to our next unmarked number 3 and mark all the numbers which are multiples of 3 and are greater than or \n",
    "# equal to the square of it\n",
    "# 4. We move to our next unmarked number 5 and mark all multiples of 5 and are greater than or equal to the square of it.\n",
    "# 5. So on in the end we will get all prime numbers upto the given number"
   ]
  },
  {
   "cell_type": "code",
   "execution_count": 9,
   "metadata": {},
   "outputs": [
    {
     "name": "stdout",
     "output_type": "stream",
     "text": [
      "Enter a number: 20\n"
     ]
    },
    {
     "data": {
      "text/plain": [
       "[2, 3, 4, 5, 6, 7, 8, 9, 10, 11, 12, 13, 14, 15, 16, 17, 18, 19, 20]"
      ]
     },
     "execution_count": 9,
     "metadata": {},
     "output_type": "execute_result"
    }
   ],
   "source": [
    "user_in=int(input('Enter a number: '))\n",
    "integer_list=[item for item in range(2,user_in+1)]\n",
    "integer_list"
   ]
  },
  {
   "cell_type": "code",
   "execution_count": 22,
   "metadata": {},
   "outputs": [],
   "source": [
    "def sieve_of_e(list_1):\n",
    "    x=0      # Initial value\n",
    "    \n",
    "    new_list=[]   # Empty list\n",
    "    for i in range(len(list_1)):    # Iterate upto list length\n",
    "        if list_1[x] not in new_list:  # Boolean expression if current item of list_1 not in new_list\n",
    "            print(list_1[x])           # printing prime number\n",
    "            y=0                        # Initial value of y\n",
    "            for j in range(len(list_1)):  # Iterate\n",
    "                if list_1[y]%list_1[x]==0 and list_1[y] not in new_list: # Boolean Expression \n",
    "                    new_list.append(list_1[y])  # appending if above boolean matched\n",
    "                    y=y+1                       # increasing value of y\n",
    "                else:\n",
    "                    y=y+1\n",
    "            x=x+1                               # increasing value of x\n",
    "            \n",
    "        else:\n",
    "            x=x+1\n",
    "            \n",
    "            \n",
    "    \n",
    "                    \n",
    "            \n",
    "        \n",
    "    \n",
    "                    \n",
    "                    "
   ]
  },
  {
   "cell_type": "code",
   "execution_count": 23,
   "metadata": {},
   "outputs": [
    {
     "name": "stdout",
     "output_type": "stream",
     "text": [
      "2\n",
      "3\n",
      "5\n",
      "7\n",
      "11\n",
      "13\n",
      "17\n",
      "19\n"
     ]
    }
   ],
   "source": [
    "sieve_of_e(integer_list)"
   ]
  },
  {
   "cell_type": "code",
   "execution_count": 20,
   "metadata": {},
   "outputs": [],
   "source": [
    "def main():           # main function \n",
    "    user_in=int(input('Enter number upto which you want to generate prime numbers: '))\n",
    "    my_integer=[item for item in range(2,user_in+1)]\n",
    "    print('Prime numbers are: ')\n",
    "    sieve_of_e(my_integer)\n",
    "    "
   ]
  },
  {
   "cell_type": "code",
   "execution_count": 21,
   "metadata": {},
   "outputs": [
    {
     "name": "stdout",
     "output_type": "stream",
     "text": [
      "Enter number upto which you want to generate prime numbers: 60\n",
      "Prime numbers are: \n",
      "2\n",
      "3\n",
      "5\n",
      "7\n",
      "11\n",
      "13\n",
      "17\n",
      "19\n",
      "23\n",
      "29\n",
      "31\n",
      "37\n",
      "41\n",
      "43\n",
      "47\n",
      "53\n",
      "59\n"
     ]
    }
   ],
   "source": [
    "main()"
   ]
  },
  {
   "cell_type": "markdown",
   "metadata": {},
   "source": []
  }
 ],
 "metadata": {
  "kernelspec": {
   "display_name": "Python 3",
   "language": "python",
   "name": "python3"
  },
  "language_info": {
   "codemirror_mode": {
    "name": "ipython",
    "version": 3
   },
   "file_extension": ".py",
   "mimetype": "text/x-python",
   "name": "python",
   "nbconvert_exporter": "python",
   "pygments_lexer": "ipython3",
   "version": "3.7.3"
  }
 },
 "nbformat": 4,
 "nbformat_minor": 2
}
