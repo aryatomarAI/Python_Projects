{
 "cells": [
  {
   "cell_type": "code",
   "execution_count": 1,
   "metadata": {},
   "outputs": [],
   "source": [
    "# We will create a program which takes a graph as an input and outputs whether every node is connected or not"
   ]
  },
  {
   "cell_type": "code",
   "execution_count": 10,
   "metadata": {},
   "outputs": [],
   "source": [
    "# We are using BFS algo to check whether all nodes of a given graph are connected or not \n",
    "\n",
    "def connected_or_not(graph):     \n",
    "    g=list(graph)   \n",
    "    starting_node=g[0]  # starting node\n",
    "    color={v:'white' for v in g}  # all nodes are currently white \n",
    "    color[starting_node]='grey'    # current nodes turns to grey\n",
    "    s=[starting_node]             # list of starting node \n",
    "    while len(s)!=0:              # loop runs till length of starting node list not equal to zero \n",
    "        u=s.pop()                 # popping out current node \n",
    "        for w in graph[u]:        # for next connected node\n",
    "            if color[w] =='white':    # if color of that node is white then turn it to grey\n",
    "                color[w]='grey' \n",
    "                s.append(w)     # append connected node to starting node list    \n",
    "            color[u]='black'          # turn previous node to black\n",
    "    end= list(color.values()).count('black')==len(g)   # boolean if color of all the nodes is black at the end then graph is connected\n",
    "    if end:\n",
    "        print('All nodes of given graph are connected')\n",
    "    else:\n",
    "        print('Nodes of given are not connected') \n",
    "    \n",
    "    "
   ]
  },
  {
   "cell_type": "code",
   "execution_count": 11,
   "metadata": {},
   "outputs": [
    {
     "name": "stdout",
     "output_type": "stream",
     "text": [
      "All nodes of given graph are connected\n"
     ]
    }
   ],
   "source": [
    "graph={1:[2,4],2:[3,5,6],3:[2,6,4],4:[1,3],5:[2],6:[2,3]}\n",
    "connected_or_not(graph)"
   ]
  },
  {
   "cell_type": "code",
   "execution_count": null,
   "metadata": {},
   "outputs": [],
   "source": []
  }
 ],
 "metadata": {
  "kernelspec": {
   "display_name": "Python 3",
   "language": "python",
   "name": "python3"
  },
  "language_info": {
   "codemirror_mode": {
    "name": "ipython",
    "version": 3
   },
   "file_extension": ".py",
   "mimetype": "text/x-python",
   "name": "python",
   "nbconvert_exporter": "python",
   "pygments_lexer": "ipython3",
   "version": "3.7.3"
  }
 },
 "nbformat": 4,
 "nbformat_minor": 2
}
