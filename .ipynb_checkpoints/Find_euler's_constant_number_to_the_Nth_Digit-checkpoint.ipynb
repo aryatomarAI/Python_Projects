{
 "cells": [
  {
   "cell_type": "code",
   "execution_count": 1,
   "metadata": {},
   "outputs": [],
   "source": [
    "# Find euler's number value to the decimal places that user has entered\n",
    "# Create a limit upto which user can create decimal places\n",
    "# Check if user has entered an integer number or not\n",
    "# This program is same as the Find pi value to the Nth decimal places\n",
    "\n",
    "import math"
   ]
  },
  {
   "cell_type": "code",
   "execution_count": 5,
   "metadata": {},
   "outputs": [],
   "source": [
    "result=f'{math.e:1.50f}'"
   ]
  },
  {
   "cell_type": "code",
   "execution_count": 6,
   "metadata": {},
   "outputs": [
    {
     "data": {
      "text/plain": [
       "'2.71828182845904509079559829842764884233474731445312'"
      ]
     },
     "execution_count": 6,
     "metadata": {},
     "output_type": "execute_result"
    }
   ],
   "source": [
    "result"
   ]
  },
  {
   "cell_type": "code",
   "execution_count": 11,
   "metadata": {},
   "outputs": [
    {
     "name": "stdout",
     "output_type": "stream",
     "text": [
      "Enter here the number upto which you want to generate euler's number decimal places: 42\n",
      "2.71828182845904509079559829842764884233474\n"
     ]
    }
   ],
   "source": [
    "e_value=list(result)\n",
    "my_e_value=[]\n",
    "e_places=input(\"Enter here the number upto which you want to generate euler's number decimal places: \")\n",
    "try:\n",
    "    e_int_places=int(e_places)\n",
    "    if e_int_places > 50:\n",
    "        print('50 is decimal places limit you cannot go beyond that!')\n",
    "    else:\n",
    "        for i in range(e_int_places+1):\n",
    "            my_e_value.append(e_value[i])\n",
    "except:\n",
    "    print('You have not enter an integer number!')\n",
    "final_e=''.join(my_e_value)\n",
    "print(final_e)\n",
    "            \n",
    "        "
   ]
  },
  {
   "cell_type": "code",
   "execution_count": null,
   "metadata": {},
   "outputs": [],
   "source": []
  }
 ],
 "metadata": {
  "kernelspec": {
   "display_name": "Python 3",
   "language": "python",
   "name": "python3"
  },
  "language_info": {
   "codemirror_mode": {
    "name": "ipython",
    "version": 3
   },
   "file_extension": ".py",
   "mimetype": "text/x-python",
   "name": "python",
   "nbconvert_exporter": "python",
   "pygments_lexer": "ipython3",
   "version": "3.7.3"
  }
 },
 "nbformat": 4,
 "nbformat_minor": 2
}
