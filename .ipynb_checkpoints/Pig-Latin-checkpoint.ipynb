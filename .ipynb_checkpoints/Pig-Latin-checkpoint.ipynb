{
 "cells": [
  {
   "cell_type": "code",
   "execution_count": 1,
   "metadata": {},
   "outputs": [],
   "source": [
    "# Pig Latin is a game of alterations played on the English language game. To create the Pig Latin form of an English word the \n",
    "# initial consonant sound is transposed to the end of the word and an ay is affixed and yay is affixed if initial alphabet is a vowel"
   ]
  },
  {
   "cell_type": "code",
   "execution_count": 58,
   "metadata": {},
   "outputs": [],
   "source": [
    "vowels=['a','e','i','o','u']\n",
    "consonant=['b','c','d','f','g','h','j','k','l','m','n','p','q','r','s','t','v','w','x','y','z']"
   ]
  },
  {
   "cell_type": "code",
   "execution_count": 59,
   "metadata": {},
   "outputs": [],
   "source": [
    "def string_word(st):\n",
    "    word_list=[]      # list which has every word of the string\n",
    "\n",
    "    x=0\n",
    "    while x < len(st): \n",
    "        word=''     \n",
    "        while st[x]!=' ' :   # loop runs till a space comes up\n",
    "            word=word+st[x]\n",
    "            x=x+1\n",
    "            if x==len(st):\n",
    "                break\n",
    "        x=x+1\n",
    "        word_list.append(word)   # append word in the word list\n",
    "     \n",
    "    return word_list   \n",
    "    \n",
    "   \n",
    "    \n",
    "    \n",
    "        \n",
    "        \n",
    "    \n",
    "    \n",
    "    \n",
    "    \n",
    "    "
   ]
  },
  {
   "cell_type": "code",
   "execution_count": 76,
   "metadata": {},
   "outputs": [],
   "source": [
    "def pig_latin(my_string):\n",
    "    pig_lat=''  # empty string\n",
    "    my_words=string_word(my_string)\n",
    "    \n",
    "    for i in my_words:  # for every word in the list\n",
    "        if len(i)>2:   # if length of the greater than 2\n",
    "            if i[0].lower() in consonant:    # first letter of the word is a consonant\n",
    "                pig_lat=pig_lat+i[1:]+i[0].lower()+'ay '\n",
    "            else:   # else\n",
    "                pig_lat=pig_lat + i.lower() + 'yay '\n",
    "        else:\n",
    "            pig_lat=pig_lat+i+' '\n",
    "    return pig_lat\n",
    "            \n",
    "    "
   ]
  },
  {
   "cell_type": "code",
   "execution_count": 77,
   "metadata": {},
   "outputs": [
    {
     "data": {
      "text/plain": [
       "'igpay atinlay is a amegay of alterationsyay layedpay on hetay englishyay anguagelay amegay '"
      ]
     },
     "execution_count": 77,
     "metadata": {},
     "output_type": "execute_result"
    }
   ],
   "source": [
    "st='Pig Latin is a game of alterations played on the English language game'\n",
    "pig_latin(st)"
   ]
  },
  {
   "cell_type": "code",
   "execution_count": null,
   "metadata": {},
   "outputs": [],
   "source": []
  }
 ],
 "metadata": {
  "kernelspec": {
   "display_name": "Python 3",
   "language": "python",
   "name": "python3"
  },
  "language_info": {
   "codemirror_mode": {
    "name": "ipython",
    "version": 3
   },
   "file_extension": ".py",
   "mimetype": "text/x-python",
   "name": "python",
   "nbconvert_exporter": "python",
   "pygments_lexer": "ipython3",
   "version": "3.7.3"
  }
 },
 "nbformat": 4,
 "nbformat_minor": 2
}
