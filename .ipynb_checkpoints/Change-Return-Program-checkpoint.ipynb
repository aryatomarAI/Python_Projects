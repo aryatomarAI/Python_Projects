{
 "cells": [
  {
   "cell_type": "code",
   "execution_count": 5,
   "metadata": {},
   "outputs": [
    {
     "name": "stdout",
     "output_type": "stream",
     "text": [
      "Total amount to pay by customer: Rs200\n",
      "Cash given by customer: Rs300\n",
      "Rs. 100.0\n"
     ]
    }
   ],
   "source": [
    "# The user enters a cost and then the amount of money given. The program will figure out the change and the number of notes, \n",
    "#coins needed for the change.\n",
    "user_gro=float(input('Total amount to pay by customer: Rs'))  # User Input for total amount of items\n",
    "user_money=float(input('Cash given by customer: Rs'))         # User Input for cash provided by customer\n",
    "amount_remain=user_money-user_gro                             # Remaining Amount\n",
    "print('Rs.',amount_remain)"
   ]
  },
  {
   "cell_type": "code",
   "execution_count": 161,
   "metadata": {},
   "outputs": [],
   "source": [
    "\n",
    "my_rupees_list=[2000.0,500.0,200.0,100.0,50.0,20.0,10.0,5.0,2.0,1.0]     # List of notes and coins\n",
    "def cash_back (amount_remain):          # Function for return change\n",
    "    remain_money=[]                     # Empty List\n",
    "    i=0                                 # initial count of i\n",
    "    while amount_remain-my_rupees_list[i]<0.0:  # Boolean expression if remaining amount is less than current note\n",
    "        i=i+1                                   # Continue iterating list until Boolean become False\n",
    "    while amount_remain!=0:                     # Boolean expression if remaining amount is not equal to zero\n",
    "       \n",
    "        while amount_remain>=my_rupees_list[i]: # Boolean expression if remaining amount is greater than current note or coin\n",
    "            amount_remain=amount_remain-my_rupees_list[i] \n",
    "            remain_money.append(my_rupees_list[i])  # appened current note to the list\n",
    "             \n",
    "        else:                       # if remaining amount is lesser than current note \n",
    "            i=i+1                   # increase i by 1\n",
    "    \n",
    "    return remain_money         # Returning list \n",
    "            \n",
    "                  "
   ]
  },
  {
   "cell_type": "code",
   "execution_count": 162,
   "metadata": {},
   "outputs": [
    {
     "data": {
      "text/plain": [
       "[1.0]"
      ]
     },
     "execution_count": 162,
     "metadata": {},
     "output_type": "execute_result"
    }
   ],
   "source": [
    "cash_back(1)"
   ]
  },
  {
   "cell_type": "code",
   "execution_count": 164,
   "metadata": {},
   "outputs": [
    {
     "name": "stdout",
     "output_type": "stream",
     "text": [
      "Total amount to pay by customer: Rs136\n",
      "Cash given by customer: Rs2000\n",
      "Amount remaining: 1864.0\n",
      "Return Customer: \n",
      "2 Coin of Rs.2.0\n",
      "1 note of Rs.100.0\n",
      "1 note of Rs.200.0\n",
      "1 note of Rs.10.0\n",
      "1 note of Rs.50.0\n",
      "3 note of Rs.500.0\n"
     ]
    }
   ],
   "source": [
    "# Main Program\n",
    "my_rupees_list=[2000.0,500.0,200.0,100.0,50.0,20.0,10.0,5.0,2.0,1.0]\n",
    "user_gro=float(input('Total amount to pay by customer: Rs'))\n",
    "user_money=float(input('Cash given by customer: Rs'))\n",
    "amount_remain=user_money-user_gro\n",
    "print(f'Amount remaining: {amount_remain}')\n",
    "my_list=cash_back (amount_remain)\n",
    "my_set=set(my_list)\n",
    "\n",
    "print('Return Customer: ')\n",
    "for i in my_set:\n",
    "    if i >=10:\n",
    "        print(f'{my_list.count(i)} note of Rs.{i}')\n",
    "    else:\n",
    "        print(f'{my_list.count(i)} Coin of Rs.{i}')"
   ]
  },
  {
   "cell_type": "code",
   "execution_count": null,
   "metadata": {},
   "outputs": [],
   "source": []
  },
  {
   "cell_type": "code",
   "execution_count": null,
   "metadata": {},
   "outputs": [],
   "source": []
  },
  {
   "cell_type": "code",
   "execution_count": null,
   "metadata": {},
   "outputs": [],
   "source": []
  },
  {
   "cell_type": "code",
   "execution_count": null,
   "metadata": {},
   "outputs": [],
   "source": [
    "\n"
   ]
  },
  {
   "cell_type": "code",
   "execution_count": null,
   "metadata": {},
   "outputs": [],
   "source": []
  },
  {
   "cell_type": "code",
   "execution_count": null,
   "metadata": {},
   "outputs": [],
   "source": []
  }
 ],
 "metadata": {
  "kernelspec": {
   "display_name": "Python 3",
   "language": "python",
   "name": "python3"
  },
  "language_info": {
   "codemirror_mode": {
    "name": "ipython",
    "version": 3
   },
   "file_extension": ".py",
   "mimetype": "text/x-python",
   "name": "python",
   "nbconvert_exporter": "python",
   "pygments_lexer": "ipython3",
   "version": "3.7.3"
  }
 },
 "nbformat": 4,
 "nbformat_minor": 2
}
