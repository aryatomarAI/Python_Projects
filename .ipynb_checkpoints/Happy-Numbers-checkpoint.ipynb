{
 "cells": [
  {
   "cell_type": "code",
   "execution_count": 1,
   "metadata": {},
   "outputs": [],
   "source": [
    "# A happy number is defined by the following process. Starting with any positive integer, replace the number by the sum of the \n",
    "# squares of its digits, and repeat the process until the number equals 1 (where it will stay), or it loops endlessly in a cycle\n",
    "# which does not include 1. Those numbers for which this process ends in 1 are happy numbers, while those that do not end in 1\n",
    "#  are unhappy numbers"
   ]
  },
  {
   "cell_type": "code",
   "execution_count": 19,
   "metadata": {},
   "outputs": [],
   "source": [
    "# In this function we are getting digits of a number\n",
    "\n",
    "def get_digits(number):\n",
    "    digits=[]\n",
    "    while number:\n",
    "        digits.append(number%10) # Appending Reminder \n",
    "        number=number//10       # Quotient\n",
    "    digits.reverse()\n",
    "    return digits"
   ]
  },
  {
   "cell_type": "code",
   "execution_count": 20,
   "metadata": {},
   "outputs": [
    {
     "data": {
      "text/plain": [
       "[1, 2, 3]"
      ]
     },
     "execution_count": 20,
     "metadata": {},
     "output_type": "execute_result"
    }
   ],
   "source": [
    "get_digits(123)"
   ]
  },
  {
   "cell_type": "code",
   "execution_count": 21,
   "metadata": {},
   "outputs": [],
   "source": [
    "# In this function we are checking if a number is a happy number or not\n",
    "\n",
    "def happy_num(number):\n",
    "    previous_num=[]\n",
    "    while True:\n",
    "        digits=get_digits(number)\n",
    "        sum_of_digits=sum(list(map(lambda x: x**2,digits)))\n",
    "        if sum_of_digits==1:    # If the number is a happy number then the function will return true \n",
    "            return True\n",
    "        elif sum_of_digits in previous_num:   # if not the function will return False\n",
    "            return False\n",
    "        else:\n",
    "            number=sum_of_digits   \n",
    "            previous_num.append(number)\n",
    "    "
   ]
  },
  {
   "cell_type": "code",
   "execution_count": 31,
   "metadata": {},
   "outputs": [
    {
     "data": {
      "text/plain": [
       "True"
      ]
     },
     "execution_count": 31,
     "metadata": {},
     "output_type": "execute_result"
    }
   ],
   "source": [
    "happy_num(7)"
   ]
  },
  {
   "cell_type": "code",
   "execution_count": 29,
   "metadata": {},
   "outputs": [],
   "source": [
    "def main():\n",
    "    print(\"Let's generate happy numbers\")\n",
    "    first_num=input(\"Do you want to see the first Happy number? (Y or N)\")\n",
    "    if first_num=='Y' or first_num=='y':\n",
    "        print('The first Happy Number is: 1')\n",
    "        next_num=True\n",
    "    else:\n",
    "        next_num=False\n",
    "    number=1\n",
    "    while next_num:\n",
    "        next_num=input('Do you want to see the next Happy Number? (Y or N)')\n",
    "        while next_num not in ['Y','y','n','N']:\n",
    "            print('Please enter a valid choice')\n",
    "            next_num=input('Do you want to see the next Happy Number? (Y or N)')\n",
    "        if next_num=='Y' or next_num=='y':\n",
    "            while happy_num(number)==False:\n",
    "                number=number+1\n",
    "            print(f'The Happy Number is {number}')\n",
    "            next_num=True\n",
    "        else:\n",
    "            next_num=False\n",
    "        number=number+1\n",
    "        \n",
    "        \n",
    "            \n",
    "        \n",
    "            \n",
    "    \n",
    "    \n",
    "        \n",
    "        "
   ]
  },
  {
   "cell_type": "code",
   "execution_count": 30,
   "metadata": {},
   "outputs": [
    {
     "name": "stdout",
     "output_type": "stream",
     "text": [
      "Let's generate happy numbers\n",
      "Do you want to see the first Happy number? (Y or N)Y\n",
      "The first Happy Number is: 1\n",
      "Do you want to see the next Happy Number? (Y or N)y\n",
      "Please enter a valid choice\n",
      "Do you want to see the next Happy Number? (Y or N)Y\n",
      "The Happy Number is 1\n",
      "Do you want to see the next Happy Number? (Y or N)Y\n",
      "The Happy Number is 7\n",
      "Do you want to see the next Happy Number? (Y or N)Y\n",
      "The Happy Number is 10\n",
      "Do you want to see the next Happy Number? (Y or N)Y\n",
      "The Happy Number is 13\n",
      "Do you want to see the next Happy Number? (Y or N)y\n",
      "Please enter a valid choice\n",
      "Do you want to see the next Happy Number? (Y or N)Y\n",
      "The Happy Number is 19\n",
      "Do you want to see the next Happy Number? (Y or N)Y\n",
      "The Happy Number is 23\n",
      "Do you want to see the next Happy Number? (Y or N)Y\n",
      "The Happy Number is 28\n",
      "Do you want to see the next Happy Number? (Y or N)n\n"
     ]
    }
   ],
   "source": [
    "main()"
   ]
  },
  {
   "cell_type": "code",
   "execution_count": null,
   "metadata": {},
   "outputs": [],
   "source": []
  },
  {
   "cell_type": "code",
   "execution_count": null,
   "metadata": {},
   "outputs": [],
   "source": []
  },
  {
   "cell_type": "code",
   "execution_count": null,
   "metadata": {},
   "outputs": [],
   "source": []
  }
 ],
 "metadata": {
  "kernelspec": {
   "display_name": "Python 3",
   "language": "python",
   "name": "python3"
  },
  "language_info": {
   "codemirror_mode": {
    "name": "ipython",
    "version": 3
   },
   "file_extension": ".py",
   "mimetype": "text/x-python",
   "name": "python",
   "nbconvert_exporter": "python",
   "pygments_lexer": "ipython3",
   "version": "3.7.3"
  }
 },
 "nbformat": 4,
 "nbformat_minor": 2
}
