{
 "cells": [
  {
   "cell_type": "code",
   "execution_count": 1,
   "metadata": {},
   "outputs": [],
   "source": [
    "# The factorial of a positive integer *n* is defined as the product of the sequence , n-1, n-2, ...1 and the factorial of 0 is \n",
    "# defined as being 1."
   ]
  },
  {
   "cell_type": "code",
   "execution_count": 2,
   "metadata": {},
   "outputs": [],
   "source": [
    "# Let's start coding "
   ]
  },
  {
   "cell_type": "code",
   "execution_count": 3,
   "metadata": {},
   "outputs": [],
   "source": [
    "def fact_find(number):       # function to find factorial of given number\n",
    "    total=1                  # Initial total defined as 1\n",
    "    if number==0:            # If number is 0 then it's factorial will be 1\n",
    "        print('0! = 1')\n",
    "    else:\n",
    "        for i in range(1,number+1):    # Range start from 1 and go upto the given number \n",
    "            total=total*i              # Multiplying previous total with current number\n",
    "        print(f'{number}! = {total}')  # Printing factorial\n",
    "            "
   ]
  },
  {
   "cell_type": "code",
   "execution_count": 6,
   "metadata": {},
   "outputs": [
    {
     "name": "stdout",
     "output_type": "stream",
     "text": [
      "Enter the number of which you want to find the factorial: 9\n",
      "9! = 362880\n"
     ]
    }
   ],
   "source": [
    "number=int(input('Enter the number of which you want to find the factorial: '))   # User Input\n",
    "fact_find(number)         "
   ]
  },
  {
   "cell_type": "code",
   "execution_count": null,
   "metadata": {},
   "outputs": [],
   "source": []
  }
 ],
 "metadata": {
  "kernelspec": {
   "display_name": "Python 3",
   "language": "python",
   "name": "python3"
  },
  "language_info": {
   "codemirror_mode": {
    "name": "ipython",
    "version": 3
   },
   "file_extension": ".py",
   "mimetype": "text/x-python",
   "name": "python",
   "nbconvert_exporter": "python",
   "pygments_lexer": "ipython3",
   "version": "3.7.3"
  }
 },
 "nbformat": 4,
 "nbformat_minor": 2
}
