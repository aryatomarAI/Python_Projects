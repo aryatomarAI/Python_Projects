{
 "cells": [
  {
   "cell_type": "code",
   "execution_count": null,
   "metadata": {},
   "outputs": [],
   "source": [
    "# Develop a converter to convert a decimal number to binary or a binary number to its decimal equivalent\n"
   ]
  },
  {
   "cell_type": "code",
   "execution_count": 9,
   "metadata": {},
   "outputs": [],
   "source": [
    "# Decimal number to binary number converter\n",
    "def decimal_to_binary(num,deci_plac):\n",
    "    binary=\" \"    # Empty string\n",
    "    round_num=int(num)   # getting integer value if it's a decimal value \n",
    "    fractional_part=num-round_num     # from decimal value subtracting integral value to get value after the decimal\n",
    "    while (round_num):                 # integral part Loop\n",
    "        remainder=round_num%2          #remainder if it's divided by 2\n",
    "        binary +=str(remainder)        #adding remainer to binary string\n",
    "        \n",
    "        round_num=round_num//2         # Quotient\n",
    "    binary=binary[ : :-1]              # reverse\n",
    "    binary=binary+'.'                  # adding . to the string\n",
    "    while (deci_plac):\n",
    "        fractional_part=fractional_part*2    # multiplying fractional part by 2 and updating it's value\n",
    "        frac_bit=int(fractional_part)        # integral part of this whole number\n",
    "        if frac_bit==1:                      \n",
    "            fractional_part=fractional_part-frac_bit   # if it's 1 then -1 from the whole number\n",
    "            binary+='1'                                # append to binary string\n",
    "        else:\n",
    "            binary+='0'\n",
    "        deci_plac-=1\n",
    "            \n",
    "    return binary                      # returning binary string"
   ]
  },
  {
   "cell_type": "code",
   "execution_count": 10,
   "metadata": {},
   "outputs": [
    {
     "name": "stdout",
     "output_type": "stream",
     "text": [
      "100010 .00111\n"
     ]
    }
   ],
   "source": [
    "if __name__ == \"__main__\" :\n",
    "    num=34.23\n",
    "    deci_plac=5\n",
    "    print (decimal_to_binary(num,deci_plac))"
   ]
  },
  {
   "cell_type": "code",
   "execution_count": 36,
   "metadata": {},
   "outputs": [],
   "source": [
    "# Converting binary number to decimal number\n",
    "\n",
    "def binary_to_decimal(binary):\n",
    "    binary1=str(binary)[::-1]     # Turning binary number to str and then reversing the string\n",
    "    decimal=0                     # Initial decimal value\n",
    "    for i in range(len(binary1)):   # for loop  \n",
    "        decimal=decimal+int(binary1[i])*(2**i)  # adding and updating decimal number\n",
    "    print(decimal)   # printing decimal number when loop is over\n",
    "        \n",
    "    \n",
    "\n"
   ]
  },
  {
   "cell_type": "code",
   "execution_count": 38,
   "metadata": {},
   "outputs": [
    {
     "name": "stdout",
     "output_type": "stream",
     "text": [
      "459\n"
     ]
    }
   ],
   "source": [
    "binary_to_decimal(111001011)"
   ]
  },
  {
   "cell_type": "code",
   "execution_count": 40,
   "metadata": {},
   "outputs": [
    {
     "data": {
      "text/plain": [
       "32"
      ]
     },
     "execution_count": 40,
     "metadata": {},
     "output_type": "execute_result"
    }
   ],
   "source": [
    "65//2"
   ]
  },
  {
   "cell_type": "code",
   "execution_count": null,
   "metadata": {},
   "outputs": [],
   "source": []
  }
 ],
 "metadata": {
  "kernelspec": {
   "display_name": "Python 3",
   "language": "python",
   "name": "python3"
  },
  "language_info": {
   "codemirror_mode": {
    "name": "ipython",
    "version": 3
   },
   "file_extension": ".py",
   "mimetype": "text/x-python",
   "name": "python",
   "nbconvert_exporter": "python",
   "pygments_lexer": "ipython3",
   "version": "3.7.3"
  }
 },
 "nbformat": 4,
 "nbformat_minor": 2
}
