{
 "cells": [
  {
   "cell_type": "code",
   "execution_count": 117,
   "metadata": {},
   "outputs": [],
   "source": [
    "# We will create a program which will take a graph as an input and output either a Eulerian path or a Eulerian cycle, or state \n",
    "# that it is not possible\n",
    "from copy import copy"
   ]
  },
  {
   "cell_type": "code",
   "execution_count": 157,
   "metadata": {},
   "outputs": [],
   "source": [
    "my_graph={1:[2,6],2:[1,5],3:[4,5],4:[3,5],5:[4,3,2,6,7,7],6:[1,5,8],7:[5,5,8,8],8:[6,7,7]}"
   ]
  },
  {
   "cell_type": "code",
   "execution_count": 158,
   "metadata": {},
   "outputs": [
    {
     "data": {
      "text/plain": [
       "[3, 5]"
      ]
     },
     "execution_count": 158,
     "metadata": {},
     "output_type": "execute_result"
    }
   ],
   "source": [
    "my_graph[4]"
   ]
  },
  {
   "cell_type": "code",
   "execution_count": 159,
   "metadata": {},
   "outputs": [],
   "source": [
    "# We will use BFS algorithm to check if nodes in given graph are connected or not \n",
    "# In BFS Algo we started with a root node, then go to it's connected nodes, once we reach these connected then these connected \n",
    "# nodes become root node and again we repeat the same steps "
   ]
  },
  {
   "cell_type": "code",
   "execution_count": 160,
   "metadata": {},
   "outputs": [],
   "source": [
    "def connected_or_not(graph):\n",
    "    start_node=list(graph)[0]  # starting node of the graph\n",
    "    color={v:'white' for v in graph}  # Starting color of all the nodes\n",
    "    color[start_node]='grey'      # Color of node changes to gray if you reach that node \n",
    "    s=[start_node]               # list of reached nodes\n",
    "    while len(s)!=0:             # loop runs until we reach the end all connected nodes\n",
    "        u=s.pop()                # poping out a single node to reach its connected nodes\n",
    "        for w in graph[u]:  # iterate to get connected nodes from popped out node\n",
    "            if color[w]=='white':  # if that node is not reached then \n",
    "                color[w]='grey' # changes it's color to grey\n",
    "                s.append(w)   # append reached nodes to starting nodes list to find their connected nodes\n",
    "            color[u]='black' # change color of starting node once you reached it's connected nodes\n",
    "    return list(color.values()).count('black')==len(graph)   # Boolean:\n",
    "                                                             # if all nodes of a given graph are connected:true, else: false\n",
    "        \n",
    "    \n",
    "    \n",
    "        \n",
    "    \n",
    "        \n",
    "    "
   ]
  },
  {
   "cell_type": "code",
   "execution_count": null,
   "metadata": {},
   "outputs": [],
   "source": []
  },
  {
   "cell_type": "code",
   "execution_count": 161,
   "metadata": {},
   "outputs": [],
   "source": [
    "# Check whether a node has a even degree or a nod degree"
   ]
  },
  {
   "cell_type": "code",
   "execution_count": 162,
   "metadata": {},
   "outputs": [],
   "source": [
    "def check_odd_nodes(graph):\n",
    "    odd_degree_nodes=[]   # list of nodes which have odd degrees, initially list is empty\n",
    "    for i in graph:     # checking each node in the graph\n",
    "        if len(graph[i])%2 !=0:    # Checking if number of connected nodes to a root node are even or odd \n",
    "            odd_degree_nodes.append(i)   # if a node has odd degree than append it to the list\n",
    "    return odd_degree_nodes          # return odd degree nodes list\n",
    "    "
   ]
  },
  {
   "cell_type": "code",
   "execution_count": 163,
   "metadata": {},
   "outputs": [
    {
     "data": {
      "text/plain": [
       "[6, 8]"
      ]
     },
     "execution_count": 163,
     "metadata": {},
     "output_type": "execute_result"
    }
   ],
   "source": [
    "check_odd_nodes(my_graph)"
   ]
  },
  {
   "cell_type": "code",
   "execution_count": 164,
   "metadata": {},
   "outputs": [],
   "source": [
    "# create a list of all links present in a given graph"
   ]
  },
  {
   "cell_type": "code",
   "execution_count": 165,
   "metadata": {},
   "outputs": [],
   "source": [
    "def dict_link(graph):\n",
    "    links=[]    # empty links list\n",
    "    for u in graph:  # for every node in graph\n",
    "        for v in graph[u]:  # connected nodes \n",
    "            links.append((u,v))   # append link to the links list\n",
    "    return links   # return links list\n",
    "            \n",
    "        \n",
    "    "
   ]
  },
  {
   "cell_type": "code",
   "execution_count": 166,
   "metadata": {},
   "outputs": [
    {
     "data": {
      "text/plain": [
       "[(1, 2),\n",
       " (1, 6),\n",
       " (2, 1),\n",
       " (2, 5),\n",
       " (3, 4),\n",
       " (3, 5),\n",
       " (4, 3),\n",
       " (4, 5),\n",
       " (5, 4),\n",
       " (5, 3),\n",
       " (5, 2),\n",
       " (5, 6),\n",
       " (5, 7),\n",
       " (5, 7),\n",
       " (6, 1),\n",
       " (6, 5),\n",
       " (6, 8),\n",
       " (7, 5),\n",
       " (7, 5),\n",
       " (7, 8),\n",
       " (7, 8),\n",
       " (8, 6),\n",
       " (8, 7),\n",
       " (8, 7)]"
      ]
     },
     "execution_count": 166,
     "metadata": {},
     "output_type": "execute_result"
    }
   ],
   "source": [
    "dict_link(my_graph)"
   ]
  },
  {
   "cell_type": "code",
   "execution_count": 167,
   "metadata": {},
   "outputs": [],
   "source": [
    "# check for if the graph has eulerian trail or eulerian cycle"
   ]
  },
  {
   "cell_type": "code",
   "execution_count": 168,
   "metadata": {},
   "outputs": [],
   "source": [
    "def euler(G):\n",
    "    odn = check_odd_nodes(G)   # variable for list of odd nodes\n",
    "    if len(check_odd_nodes(G))>2 or len(check_odd_nodes(G))==1:  # if nodes of a graph have odd degrees then that graph don't have a eulerian cycle or path expect in case only two nodes have odd degrees then that graph have a eulerian path\n",
    "        return 'This graph has no eulerian path or cycle'\n",
    "    else:   # if graph nodes have even degrees or two odd degrees then \n",
    "        \n",
    "        g = copy(G)  # copy our main graph to variable g\n",
    "        trail = []   # initial trail of our eulerian cycle or path\n",
    "        if len(odn) == 2: # our first node if graph has two odd degree nodes\n",
    "            u = odn[0]\n",
    "        else:           # our starting node if graph nodes have even degrees \n",
    "            u = list(g)[0]\n",
    "            \n",
    "        current_vertex = u    # Our current vertex or node \n",
    "        \n",
    "        while len(dict_link(g)) > 0:   # loop runs till no of links becomes zero \n",
    "            for v in g[current_vertex]:  # first connected node to our starting node\n",
    "                g[current_vertex].remove(v)  # we go upto the connected node and remove the link from the graph\n",
    "                g[v].remove(current_vertex)  # vice-versa\n",
    "                bridge = not connected_or_not(g)  # after moving up in our trail we will check if that previous node still has links if not we will pop out that node from the graph\n",
    "                if bridge:\n",
    "                    g[current_vertex].append(v)\n",
    "                    g[v].append(current_vertex)\n",
    "                else:\n",
    "                    break\n",
    "            if bridge:\n",
    "                g[current_vertex].remove(v)\n",
    "                g[v].remove(current_vertex)\n",
    "                g.pop(current_vertex) # popping out node that has no links left\n",
    "            trail.append((current_vertex, v))  # append the link to our trail list\n",
    "            current_vertex=v   # updating value of current vertex\n",
    "    print(f'Eulerian trail: {trail}')   # printing out our trail"
   ]
  },
  {
   "cell_type": "code",
   "execution_count": 169,
   "metadata": {},
   "outputs": [
    {
     "name": "stdout",
     "output_type": "stream",
     "text": [
      "Eulerian trail: [(6, 1), (1, 2), (2, 5), (5, 4), (4, 3), (3, 5), (5, 6), (6, 8), (8, 7), (7, 5), (5, 7), (7, 8)]\n"
     ]
    }
   ],
   "source": [
    "euler(my_graph)"
   ]
  },
  {
   "cell_type": "code",
   "execution_count": null,
   "metadata": {},
   "outputs": [],
   "source": []
  },
  {
   "cell_type": "code",
   "execution_count": null,
   "metadata": {},
   "outputs": [],
   "source": []
  },
  {
   "cell_type": "code",
   "execution_count": null,
   "metadata": {},
   "outputs": [],
   "source": []
  },
  {
   "cell_type": "code",
   "execution_count": null,
   "metadata": {},
   "outputs": [],
   "source": []
  }
 ],
 "metadata": {
  "kernelspec": {
   "display_name": "Python 3",
   "language": "python",
   "name": "python3"
  },
  "language_info": {
   "codemirror_mode": {
    "name": "ipython",
    "version": 3
   },
   "file_extension": ".py",
   "mimetype": "text/x-python",
   "name": "python",
   "nbconvert_exporter": "python",
   "pygments_lexer": "ipython3",
   "version": "3.7.3"
  }
 },
 "nbformat": 4,
 "nbformat_minor": 2
}
