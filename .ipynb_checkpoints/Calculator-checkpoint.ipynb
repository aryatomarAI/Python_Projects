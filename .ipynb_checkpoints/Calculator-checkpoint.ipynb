{
 "cells": [
  {
   "cell_type": "code",
   "execution_count": 1,
   "metadata": {},
   "outputs": [],
   "source": [
    "# A simple calculator to do basic operators or make it a scientific calculator for added complexity.\n",
    "# Let's start"
   ]
  },
  {
   "cell_type": "code",
   "execution_count": 2,
   "metadata": {},
   "outputs": [],
   "source": [
    "# So let's start with more basic calculator with only two number inputs\n"
   ]
  },
  {
   "cell_type": "code",
   "execution_count": 10,
   "metadata": {},
   "outputs": [
    {
     "name": "stdout",
     "output_type": "stream",
     "text": [
      "operation you want to perform between two numbers:\n",
      "enter 1 for Addition\n",
      "enter 2 for subtraction\n",
      "enter 3 for multiplication\n",
      "enter 4 for divide\n",
      "Enter your first number: 45\n",
      "Enter your second number: 6\n",
      "Please enter operation:(1-4) 4\n",
      "45 / 6 = 7.5\n"
     ]
    }
   ],
   "source": [
    "# first let's define function\n",
    "def add(num1,num2):     # function of addition\n",
    "    return num1+num2\n",
    "def subtract(num1,num2):    # function of subtraction\n",
    "    return num1-num2  \n",
    "def multiply(num1,num2):    # function of multiply\n",
    "    return num1 * num2\n",
    "def divide(num1,num2):      # Function of division\n",
    "    return num1 / num2\n",
    "\n",
    "# choose between operators\n",
    "print(\"operation you want to perform between two numbers: \")\n",
    "print(\"enter 1 for Addition\")\n",
    "print(\"enter 2 for subtraction\")\n",
    "print(\"enter 3 for multiplication\") \n",
    "print(\"enter 4 for divide\")\n",
    "    \n",
    "number1=int(input('Enter your first number: '))   # User Input for first number\n",
    "number2=int(input('Enter your second number: '))  # User input for second number\n",
    "\n",
    "select=int(input(\"Please enter operation:(1-4) \"))   \n",
    "if select==1:\n",
    "    print(f\"{number1} + {number2} = {add(number1,number2)}\")\n",
    "elif select==2:\n",
    "    print(f\"{number1} - {number2} = {subtract(number1,number2)}\")\n",
    "elif select==3:\n",
    "    print(f\"{number1} X {number2} = {multiply(number1,number2)}\")\n",
    "elif select==4:\n",
    "    print(f\"{number1} / {number2} = {divide(number1,number2)}\")\n",
    "else:\n",
    "    print(\"Invalid input\")\n"
   ]
  },
  {
   "cell_type": "code",
   "execution_count": 11,
   "metadata": {},
   "outputs": [],
   "source": [
    "# More complex calculator"
   ]
  },
  {
   "cell_type": "code",
   "execution_count": 3,
   "metadata": {},
   "outputs": [
    {
     "name": "stdout",
     "output_type": "stream",
     "text": [
      "Start your calculation\n",
      "Let's start: 34\n",
      "choose operation (*,/,+,-,=):*\n",
      "next number: 34\n",
      "choose operation (*,/,+,-,=):+23\n",
      "Enter valid operation: +\n",
      "next number: 78\n",
      "choose operation (*,/,+,-,=):+\n",
      "next number: 23\n",
      "choose operation (*,/,+,-,=):-\n",
      "next number: 67\n",
      "choose operation (*,/,+,-,=):/\n",
      "next number: 8\n",
      "choose operation (*,/,+,-,=):=\n",
      "your result is: 148.75\n"
     ]
    }
   ],
   "source": [
    "# Calculator \n",
    "print('Start your calculation')    # Start calculation signal\n",
    "num1=float(input(\"Let's start: \"))   # user input First num\n",
    "operation='not given yet'            # Initial operation str\n",
    "\n",
    "while operation !='=':               # running until operation is equals to '='\n",
    "    operation=input('choose operation (*,/,+,-,=):')     # choose operation you want to perform\n",
    "    while operation not in ['+','-','*','/','=']:        # if you have enter an invalid operation\n",
    "        operation=input('Enter valid operation: ')\n",
    "        if operation not in ['+','-','*','/','=']:\n",
    "            print('Again you have choose a wrong operation')\n",
    "        else:\n",
    "            break\n",
    "    if operation=='=':      # If user wants the result we will break out of the loop\n",
    "        break\n",
    "    num2=float(input('next number: '))     #User input number \n",
    "    if operation=='+':                  # Operation's function\n",
    "        num1=num1+num2\n",
    "    elif operation=='-':\n",
    "        num1=num1-num2\n",
    "    elif operation=='*':\n",
    "        num1=num1*num2\n",
    "    elif operation=='/':\n",
    "        num1=num1/num2\n",
    "    \n",
    "print(f'your result is: {num1}')        # Printing your result\n",
    "    \n",
    "\n",
    "\n",
    "\n"
   ]
  },
  {
   "cell_type": "code",
   "execution_count": null,
   "metadata": {},
   "outputs": [],
   "source": [
    "# You can add more functionality to this calculator function"
   ]
  },
  {
   "cell_type": "code",
   "execution_count": null,
   "metadata": {},
   "outputs": [],
   "source": []
  },
  {
   "cell_type": "code",
   "execution_count": null,
   "metadata": {},
   "outputs": [],
   "source": []
  },
  {
   "cell_type": "code",
   "execution_count": null,
   "metadata": {},
   "outputs": [],
   "source": []
  }
 ],
 "metadata": {
  "kernelspec": {
   "display_name": "Python 3",
   "language": "python",
   "name": "python3"
  },
  "language_info": {
   "codemirror_mode": {
    "name": "ipython",
    "version": 3
   },
   "file_extension": ".py",
   "mimetype": "text/x-python",
   "name": "python",
   "nbconvert_exporter": "python",
   "pygments_lexer": "ipython3",
   "version": "3.7.3"
  }
 },
 "nbformat": 4,
 "nbformat_minor": 2
}
