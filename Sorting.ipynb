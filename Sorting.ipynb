{
 "cells": [
  {
   "cell_type": "code",
   "execution_count": 1,
   "metadata": {},
   "outputs": [],
   "source": [
    "# We will work on three classic algorithms:\n",
    "# Bubble Sort\n",
    "# Insertion Sort \n",
    "# Merge Sort"
   ]
  },
  {
   "cell_type": "code",
   "execution_count": 2,
   "metadata": {},
   "outputs": [],
   "source": [
    "# Bubble sort is considered the simplest sorting algorithm. It goes through an entire array and compares each neighboring number\n",
    "# It then swaps the numbers and keeps doing this until the list is in ascending order."
   ]
  },
  {
   "cell_type": "code",
   "execution_count": 80,
   "metadata": {},
   "outputs": [],
   "source": [
    "my_list=[6,3,4,5,2]"
   ]
  },
  {
   "cell_type": "code",
   "execution_count": 81,
   "metadata": {},
   "outputs": [],
   "source": [
    "def sorting(my_list):\n",
    "    \n",
    "    x=0\n",
    "    for i in range(len(my_list)-1):\n",
    "        if my_list[x+1] < my_list[x]:\n",
    "            a=my_list[x+1]\n",
    "            my_list[x+1]=my_list[x]\n",
    "            my_list[x]=a\n",
    "            \n",
    "            x=x+1\n",
    "        else:\n",
    "            x=x+1\n",
    "    return my_list"
   ]
  },
  {
   "cell_type": "code",
   "execution_count": 84,
   "metadata": {},
   "outputs": [
    {
     "data": {
      "text/plain": [
       "[3, 2, 4, 5, 6]"
      ]
     },
     "execution_count": 84,
     "metadata": {},
     "output_type": "execute_result"
    }
   ],
   "source": [
    "sorting(my_list)"
   ]
  },
  {
   "cell_type": "code",
   "execution_count": 110,
   "metadata": {},
   "outputs": [],
   "source": [
    "def bubble_sort(my_list):\n",
    "    print(f'array before sorting: {my_list}')\n",
    "    for i in range(len(my_list)-1):\n",
    "        sorting(my_list)\n",
    "    print(f'Sorted array is: {my_list}')\n",
    "    \n",
    "   "
   ]
  },
  {
   "cell_type": "code",
   "execution_count": 113,
   "metadata": {},
   "outputs": [
    {
     "name": "stdout",
     "output_type": "stream",
     "text": [
      "array before sorting: [1, 9, 6, 7, 10, 4, 8, 5, 3, 2, 0]\n",
      "Sorted array is: [0, 1, 2, 3, 4, 5, 6, 7, 8, 9, 10]\n"
     ]
    }
   ],
   "source": [
    "bubble_sort([1,9,6,7,10,4,8,5,3,2,0])"
   ]
  },
  {
   "cell_type": "code",
   "execution_count": null,
   "metadata": {},
   "outputs": [],
   "source": [
    "# Insertion Sort"
   ]
  },
  {
   "cell_type": "code",
   "execution_count": 112,
   "metadata": {},
   "outputs": [],
   "source": [
    "# Insertion sort involves going through a pile, taking one item, comparing it to the first, swapping places if one item is \n",
    "# larger than another and continuing this process until the minimum item is in the correct location."
   ]
  },
  {
   "cell_type": "code",
   "execution_count": 124,
   "metadata": {},
   "outputs": [],
   "source": [
    "\n",
    "       \n",
    "    "
   ]
  },
  {
   "cell_type": "code",
   "execution_count": null,
   "metadata": {},
   "outputs": [],
   "source": []
  },
  {
   "cell_type": "code",
   "execution_count": 141,
   "metadata": {},
   "outputs": [],
   "source": [
    "def insertion_sort(num_list):\n",
    "    print(f'array before insertion sort: {num_list}')\n",
    "    \n",
    "    for i in range(1,len(num_list)):\n",
    "        a=num_list[i]\n",
    "        x=i-1\n",
    "        while x>=0 and a < num_list[x]:\n",
    "            num_list[x+1]=num_list[x]\n",
    "            num_list[x]=a\n",
    "            x=x-1\n",
    "    print(f'array after insretion sort: {num_list}')\n",
    "            \n",
    "            "
   ]
  },
  {
   "cell_type": "code",
   "execution_count": 142,
   "metadata": {},
   "outputs": [
    {
     "name": "stdout",
     "output_type": "stream",
     "text": [
      "array before insertion sort: [7, 2, 6, 5, 3, 1, 2, 3, 4]\n",
      "array after insretion sort: [1, 2, 2, 3, 3, 4, 5, 6, 7]\n"
     ]
    }
   ],
   "source": [
    "insertion_sort([7,2,6,5,3,1,2,3,4])"
   ]
  },
  {
   "cell_type": "code",
   "execution_count": null,
   "metadata": {},
   "outputs": [],
   "source": [
    "\n"
   ]
  },
  {
   "cell_type": "code",
   "execution_count": 143,
   "metadata": {},
   "outputs": [],
   "source": [
    "# Merge Sort"
   ]
  },
  {
   "cell_type": "code",
   "execution_count": 144,
   "metadata": {},
   "outputs": [],
   "source": [
    "# Imagine having to take a deck of cards, split it in two halves and continue splitting those piles in halves, and halves\n",
    "# again until all you have is 52 piles of 1 card. UGH. Then, you regroup the piles in pairs again but this time, sort them in \n",
    "# ascending order."
   ]
  },
  {
   "cell_type": "code",
   "execution_count": 209,
   "metadata": {},
   "outputs": [],
   "source": [
    "\n",
    "def merge_sort(num_list):\n",
    "    if len(num_list) > 1:\n",
    "        right=int(len(num_list)/2)\n",
    "        left=len(num_list)-right\n",
    "        left_arr=num_list[:left]     \n",
    "        right_arr=num_list[left:]\n",
    "        merge_sort(left_arr)   # We are using recursion here to sort the array\n",
    "        merge_sort(right_arr)  \n",
    "        \n",
    "        i=j=k=0              \n",
    "        while i < len(left_arr) and j< len(right_arr):\n",
    "            if left_arr[i] < right_arr[j]:    \n",
    "                num_list[k]=left_arr[i]\n",
    "                i=i+1\n",
    "            else:\n",
    "                num_list[k]=right_arr[j]\n",
    "                j=j+1\n",
    "            k=k+1\n",
    "        while i<len(left_arr):      # Checking if there are items in the arrays \n",
    "            num_list[k]=left_arr[i]\n",
    "            i=i+1\n",
    "            k=k+1\n",
    "        while j<len(right_arr):\n",
    "            num_list[k]=right_arr[j]\n",
    "            j=j+1\n",
    "            k=k+1\n",
    "    return num_list\n",
    "            \n",
    "            \n",
    "    "
   ]
  },
  {
   "cell_type": "code",
   "execution_count": 211,
   "metadata": {},
   "outputs": [
    {
     "data": {
      "text/plain": [
       "[2, 3, 5, 6, 7, 8]"
      ]
     },
     "execution_count": 211,
     "metadata": {},
     "output_type": "execute_result"
    }
   ],
   "source": [
    "merge_sort([3,2,6,5,8,7])"
   ]
  },
  {
   "cell_type": "code",
   "execution_count": null,
   "metadata": {},
   "outputs": [],
   "source": []
  },
  {
   "cell_type": "code",
   "execution_count": null,
   "metadata": {},
   "outputs": [],
   "source": [
    "\n"
   ]
  },
  {
   "cell_type": "code",
   "execution_count": 188,
   "metadata": {},
   "outputs": [],
   "source": []
  },
  {
   "cell_type": "code",
   "execution_count": 189,
   "metadata": {},
   "outputs": [],
   "source": []
  },
  {
   "cell_type": "code",
   "execution_count": null,
   "metadata": {},
   "outputs": [],
   "source": []
  },
  {
   "cell_type": "code",
   "execution_count": null,
   "metadata": {},
   "outputs": [],
   "source": []
  }
 ],
 "metadata": {
  "kernelspec": {
   "display_name": "Python 3",
   "language": "python",
   "name": "python3"
  },
  "language_info": {
   "codemirror_mode": {
    "name": "ipython",
    "version": 3
   },
   "file_extension": ".py",
   "mimetype": "text/x-python",
   "name": "python",
   "nbconvert_exporter": "python",
   "pygments_lexer": "ipython3",
   "version": "3.7.3"
  }
 },
 "nbformat": 4,
 "nbformat_minor": 2
}
