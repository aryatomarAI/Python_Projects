{
 "cells": [
  {
   "cell_type": "code",
   "execution_count": 1,
   "metadata": {},
   "outputs": [],
   "source": [
    "# Calculates the distance between two cities and allows the user to specify a unit of distance. This program may require finding\n",
    "# coordinates for the cities like latitude and longitude"
   ]
  },
  {
   "cell_type": "code",
   "execution_count": 2,
   "metadata": {},
   "outputs": [],
   "source": [
    "# Distance Between Two Cities"
   ]
  },
  {
   "cell_type": "code",
   "execution_count": 1,
   "metadata": {},
   "outputs": [],
   "source": [
    " # We are using haversine formula to find distance between two cities"
   ]
  },
  {
   "cell_type": "code",
   "execution_count": 2,
   "metadata": {},
   "outputs": [],
   "source": [
    "# First we have to find out coordinates of cities and then convert them into lattitudes and longitudes"
   ]
  },
  {
   "cell_type": "code",
   "execution_count": 47,
   "metadata": {},
   "outputs": [],
   "source": [
    "import numpy as np   # Impoting numpy for maths stuff"
   ]
  },
  {
   "cell_type": "code",
   "execution_count": 134,
   "metadata": {},
   "outputs": [],
   "source": [
    "import requests     # Importing requests for getting coordinates from url's source code"
   ]
  },
  {
   "cell_type": "code",
   "execution_count": 135,
   "metadata": {},
   "outputs": [],
   "source": [
    "import json        # Importing json to find dictionary inside a string"
   ]
  },
  {
   "cell_type": "code",
   "execution_count": 50,
   "metadata": {},
   "outputs": [],
   "source": []
  },
  {
   "cell_type": "code",
   "execution_count": 150,
   "metadata": {},
   "outputs": [],
   "source": [
    "def get_distance(locA,locB):   # Function to find distance between two places\n",
    "    earth_rad=6371.0     #applying haversine formula google it\n",
    "    dif_lat=np.deg2rad(locB['lat'] - locA['lat'])\n",
    "    dif_long=np.deg2rad(locB['lng']-locA['lng'])\n",
    "    a=(np.sin(dif_lat/2)*np.sin(dif_lat/2))+(np.cos(np.deg2rad(locA['lat']))*np.cos(np.deg2rad(locB['lat']))*np.sin(dif_long/2)*np.sin(dif_long))\n",
    "    c=2*np.arctan2(np.sqrt(a),np.sqrt(1-a))\n",
    "    dis=earth_rad*c\n",
    "    return dis"
   ]
  },
  {
   "cell_type": "code",
   "execution_count": 151,
   "metadata": {},
   "outputs": [],
   "source": [
    "def lat_longs(location):    # Function to find coordinates of a place\n",
    "    parameters={'key':'Your_API_Key','location':location}   # Providing API Key and location\n",
    "    response=requests.get('http://www.mapquestapi.com/geocoding/v1/address',params=parameters)\n",
    "    data=json.loads(response.text)['results'][0] # Getting Source Code\n",
    "\n",
    "    return data['locations'][0]['latLng']   \n",
    "    \n",
    "     \n"
   ]
  },
  {
   "cell_type": "code",
   "execution_count": 160,
   "metadata": {},
   "outputs": [
    {
     "data": {
      "text/plain": [
       "{'lat': 18.520644, 'lng': 73.854405}"
      ]
     },
     "execution_count": 160,
     "metadata": {},
     "output_type": "execute_result"
    }
   ],
   "source": [
    "lat_longs('Pune')"
   ]
  },
  {
   "cell_type": "code",
   "execution_count": null,
   "metadata": {},
   "outputs": [],
   "source": []
  },
  {
   "cell_type": "code",
   "execution_count": 155,
   "metadata": {},
   "outputs": [],
   "source": [
    "def main():\n",
    "    print(\"Let's calculate distance between the two cities\")\n",
    "    locA=input('Enter the first city name: ')\n",
    "    locB=input('Enter the second city name: ')\n",
    "    try:\n",
    "        distance=get_distance(lat_longs(locA),lat_longs(locB))\n",
    "        print(f'Distance between the cities is {distance} km')\n",
    "        miles_p_km=0.62137\n",
    "        miles=distance*miles_p_km\n",
    "        print('Distance in miles')\n",
    "        print(f'Distance between the cities is {miles} miles')\n",
    "    except:\n",
    "        print('Error! Are the names of input cities correct? ')\n",
    "        "
   ]
  },
  {
   "cell_type": "code",
   "execution_count": 164,
   "metadata": {},
   "outputs": [
    {
     "name": "stdout",
     "output_type": "stream",
     "text": [
      "Let's calculate distance between the two cities\n",
      "Enter the first city name: ladakh\n",
      "Enter the second city name: hotan\n",
      "Distance between the cities is 464.9675560994784 km\n",
      "Distance in miles\n",
      "Distance between the cities is 288.9168903335329 miles\n"
     ]
    }
   ],
   "source": [
    "main()"
   ]
  },
  {
   "cell_type": "code",
   "execution_count": null,
   "metadata": {},
   "outputs": [],
   "source": []
  }
 ],
 "metadata": {
  "kernelspec": {
   "display_name": "Python 3",
   "language": "python",
   "name": "python3"
  },
  "language_info": {
   "codemirror_mode": {
    "name": "ipython",
    "version": 3
   },
   "file_extension": ".py",
   "mimetype": "text/x-python",
   "name": "python",
   "nbconvert_exporter": "python",
   "pygments_lexer": "ipython3",
   "version": "3.7.3"
  }
 },
 "nbformat": 4,
 "nbformat_minor": 2
}
