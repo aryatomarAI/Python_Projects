{
 "cells": [
  {
   "cell_type": "code",
   "execution_count": 6,
   "metadata": {},
   "outputs": [],
   "source": [
    "# Finding closest pair of points on a 1D Plane \n",
    "import numpy as np"
   ]
  },
  {
   "cell_type": "code",
   "execution_count": 7,
   "metadata": {},
   "outputs": [],
   "source": [
    "def one_d_close(sort_array):\n",
    "    distance=10000000000 # initial value of distance\n",
    "    x=0                  # Initial value of x\n",
    "    sort_array.sort()    # sorting array\n",
    "    for i in range(len(sort_array)-1):   # Iterate through the array\n",
    "        short_distance=sort_array[x+1]-sort_array[x]   # Calculating distance between two points\n",
    "        if short_distance < distance:     # if current points distance is shorter than the previous one than replace the distance value with this distance\n",
    "            distance=short_distance\n",
    "            pair1_item=sort_array[x]\n",
    "            pair2_item=sort_array[x+1]\n",
    "            x=x+1\n",
    "            \n",
    "        else:             \n",
    "            x=x+1\n",
    "    print(f\" The closest pair of points are {pair1_item} and {pair2_item}\")\n",
    "            \n",
    "            \n",
    "        \n",
    "    "
   ]
  },
  {
   "cell_type": "code",
   "execution_count": 8,
   "metadata": {},
   "outputs": [
    {
     "name": "stdout",
     "output_type": "stream",
     "text": [
      " The closest pair of points are 6 and 7\n"
     ]
    }
   ],
   "source": [
    "arr=[6,3,7,10,1,34,25]\n",
    "one_d_close(arr)"
   ]
  },
  {
   "cell_type": "code",
   "execution_count": null,
   "metadata": {},
   "outputs": [],
   "source": [
    "# Finding closet pair of points in 2D"
   ]
  },
  {
   "cell_type": "code",
   "execution_count": 31,
   "metadata": {},
   "outputs": [],
   "source": [
    "def two_pair_dis(point_1,point_2):  # Formula for calculating the distance between two points in two D\n",
    "    return np.abs(np.sqrt((point_1[0]-point_2[0])*(point_1[0]-point_2[0])+(point_1[1]-point_2[1])*(point_1[1]-point_2[1])))\n",
    "    \n",
    "    "
   ]
  },
  {
   "cell_type": "code",
   "execution_count": 70,
   "metadata": {},
   "outputs": [],
   "source": [
    "\n"
   ]
  },
  {
   "cell_type": "code",
   "execution_count": 75,
   "metadata": {},
   "outputs": [],
   "source": [
    "def short_dist(array_4):     # short_distance function\n",
    "    distance=10000000000000   # Initial distance\n",
    "    i=0                       # initial value of i\n",
    "    len_arr=len(array_4)-1    \n",
    "    for x in range(len(array_4)-1): # Iterate through the array\n",
    "        point_1=array_4[i]          # one point is fixed\n",
    "        j=i+1                       \n",
    "        for y in range(len_arr):    # Iterate other points\n",
    "            point_2=array_4[j]      \n",
    "            \n",
    "            short_distance=two_pair_dis(point_1,point_2)   # Calculating distance between the two points\n",
    "            if short_distance < distance:\n",
    "                distance=short_distance\n",
    "                point1=array_4[i]\n",
    "                point2=array_4[j]\n",
    "                pair=(point1,point2)\n",
    "                j=j+1\n",
    "               \n",
    "            else:\n",
    "                j=j+1\n",
    "        i=i+1      # increasing the value of i on iteration\n",
    "        len_arr=len_arr-1   # decreasing value of len_arr on iteration to avoid repetition of pair of points\n",
    "        \n",
    "    print(f\"Distance between two the closet points is: {distance}\")\n",
    "    print(f\"The pair of points is: {pair}\")\n",
    "            \n",
    "        \n",
    "        \n",
    "    "
   ]
  },
  {
   "cell_type": "code",
   "execution_count": 79,
   "metadata": {},
   "outputs": [
    {
     "name": "stdout",
     "output_type": "stream",
     "text": [
      "Distance between two the closet points is: 0.5\n",
      "The pair of points is: ((4, 1.5), (4, 1))\n"
     ]
    }
   ],
   "source": [
    "array_1=[(0,3),(6,1),(2,4),(1,3),(1,8),(3,2),(2,10),(5,2),(4,1.5),(4,1)]\n",
    "short_dist(array_1)"
   ]
  },
  {
   "cell_type": "code",
   "execution_count": null,
   "metadata": {},
   "outputs": [],
   "source": []
  },
  {
   "cell_type": "code",
   "execution_count": null,
   "metadata": {},
   "outputs": [],
   "source": []
  },
  {
   "cell_type": "code",
   "execution_count": null,
   "metadata": {},
   "outputs": [],
   "source": []
  }
 ],
 "metadata": {
  "kernelspec": {
   "display_name": "Python 3",
   "language": "python",
   "name": "python3"
  },
  "language_info": {
   "codemirror_mode": {
    "name": "ipython",
    "version": 3
   },
   "file_extension": ".py",
   "mimetype": "text/x-python",
   "name": "python",
   "nbconvert_exporter": "python",
   "pygments_lexer": "ipython3",
   "version": "3.7.3"
  }
 },
 "nbformat": 4,
 "nbformat_minor": 2
}
