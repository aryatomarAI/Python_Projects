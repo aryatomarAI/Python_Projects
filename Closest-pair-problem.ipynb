{
 "cells": [
  {
   "cell_type": "code",
   "execution_count": 1,
   "metadata": {},
   "outputs": [],
   "source": [
    "# Finding closest pair of points on a 1D Plane "
   ]
  },
  {
   "cell_type": "code",
   "execution_count": 12,
   "metadata": {},
   "outputs": [],
   "source": [
    "def one_d_close(sort_array):\n",
    "    distance=10000000000\n",
    "    x=0\n",
    "    sort_array.sort()\n",
    "    for i in range(len(sort_array)-1):\n",
    "        short_distance=sort_array[x+1]-sort_array[x]\n",
    "        if short_distance < distance:\n",
    "            distance=short_distance\n",
    "            pair1_item=sort_array[x]\n",
    "            pair2_item=sort_array[x+1]\n",
    "            x=x+1\n",
    "            \n",
    "        else:\n",
    "            x=x+1\n",
    "    print(f\" The closest pair of points are {pair1_item} and {pair2_item}\")\n",
    "            \n",
    "            \n",
    "        \n",
    "    "
   ]
  },
  {
   "cell_type": "code",
   "execution_count": 13,
   "metadata": {},
   "outputs": [
    {
     "name": "stdout",
     "output_type": "stream",
     "text": [
      " The closest pair of points are 6 and 7\n"
     ]
    }
   ],
   "source": [
    "arr=[6,3,7,10,1,34,25]\n",
    "one_d_close(arr)"
   ]
  },
  {
   "cell_type": "code",
   "execution_count": null,
   "metadata": {},
   "outputs": [],
   "source": []
  }
 ],
 "metadata": {
  "kernelspec": {
   "display_name": "Python 3",
   "language": "python",
   "name": "python3"
  },
  "language_info": {
   "codemirror_mode": {
    "name": "ipython",
    "version": 3
   },
   "file_extension": ".py",
   "mimetype": "text/x-python",
   "name": "python",
   "nbconvert_exporter": "python",
   "pygments_lexer": "ipython3",
   "version": "3.7.3"
  }
 },
 "nbformat": 4,
 "nbformat_minor": 2
}
