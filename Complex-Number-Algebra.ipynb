{
 "cells": [
  {
   "cell_type": "code",
   "execution_count": 1,
   "metadata": {},
   "outputs": [],
   "source": [
    "#Show addition, multiplication, negation, and inversion of complex numbers in separate functions. (Subtraction and division \n",
    "# operations can be made with pairs of these operations.) Print the results for each operation tested."
   ]
  },
  {
   "cell_type": "code",
   "execution_count": 3,
   "metadata": {},
   "outputs": [],
   "source": [
    "from math import sqrt"
   ]
  },
  {
   "cell_type": "code",
   "execution_count": 40,
   "metadata": {},
   "outputs": [],
   "source": [
    "class Number:\n",
    "    def __init__(self,x,y):\n",
    "        self.r=x\n",
    "        self.im=y\n",
    "    def show(self):\n",
    "        print (self.r,',',self.im)\n",
    "    def negation(self):\n",
    "        self.r=self.r*-1\n",
    "        self.im=self.im*-1\n",
    "        return self\n",
    "    def inversion (self):\n",
    "        dino=self.r*self.r + self.im*self.im\n",
    "        self.r=self.r/dino\n",
    "        self.im=-self.im/dino\n",
    "        print(f'After inversion of the complex number : real part is {self.r:1.3f} , imaginary number is {self.im:1.3f}')\n",
    "\n",
    "class Complex:\n",
    "    def __init__(self,x,y):\n",
    "        self.x=x\n",
    "        self.y=y\n",
    "    def add(self):\n",
    "        return (self.x.r+self.y.r,self.x.im+self.y.im)\n",
    "    def multiply(self):\n",
    "        return (self.x.r*self.y.r-self.x.im*self.y.im,self.x.r*self.y.im+self.x.im*self.y.r)\n",
    "        "
   ]
  },
  {
   "cell_type": "code",
   "execution_count": 45,
   "metadata": {},
   "outputs": [
    {
     "name": "stdout",
     "output_type": "stream",
     "text": [
      "addition is (6, 11)\n",
      "multilplication is (-21, 33)\n",
      "Negations of complex numbers are:\n",
      "-3 , -5\n",
      "-3 , -6\n",
      "After inversion of the complex number: real part is -0.088 , imaginary number is 0.147\n",
      "After inversion of the complex number: real part is -0.067 , imaginary number is 0.133\n"
     ]
    }
   ],
   "source": [
    "n1=Number(3,5)\n",
    "n2=Number(3,6)\n",
    "\n",
    "my_ob=Complex(n1,n2)\n",
    "\n",
    "print(f'addition is {my_ob.add()}')\n",
    "print(f'multilplication is {my_ob.multiply()}')\n",
    "print('Negations of complex numbers are:')\n",
    "n1.negation().show()\n",
    "n2.negation().show()\n",
    "n1.inversion()\n",
    "n2.inversion()\n"
   ]
  },
  {
   "cell_type": "code",
   "execution_count": null,
   "metadata": {},
   "outputs": [],
   "source": []
  },
  {
   "cell_type": "code",
   "execution_count": null,
   "metadata": {},
   "outputs": [],
   "source": []
  }
 ],
 "metadata": {
  "kernelspec": {
   "display_name": "Python 3",
   "language": "python",
   "name": "python3"
  },
  "language_info": {
   "codemirror_mode": {
    "name": "ipython",
    "version": 3
   },
   "file_extension": ".py",
   "mimetype": "text/x-python",
   "name": "python",
   "nbconvert_exporter": "python",
   "pygments_lexer": "ipython3",
   "version": "3.7.3"
  }
 },
 "nbformat": 4,
 "nbformat_minor": 2
}
