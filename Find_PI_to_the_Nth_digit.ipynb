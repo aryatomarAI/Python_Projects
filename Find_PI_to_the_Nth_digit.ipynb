{
 "cells": [
  {
   "cell_type": "code",
   "execution_count": 3,
   "metadata": {},
   "outputs": [],
   "source": [
    "# In this program we will find find PI to the Nth digit\n",
    "# Enter a number and have the program generate pi upto to that many decimal places.Keep a limit to how far the program will go\n",
    "# There are 50 digits after the decimal point in pi"
   ]
  },
  {
   "cell_type": "code",
   "execution_count": 2,
   "metadata": {},
   "outputs": [],
   "source": [
    "import math   # Importing Math library"
   ]
  },
  {
   "cell_type": "code",
   "execution_count": null,
   "metadata": {},
   "outputs": [],
   "source": []
  },
  {
   "cell_type": "code",
   "execution_count": 22,
   "metadata": {},
   "outputs": [
    {
     "name": "stdout",
     "output_type": "stream",
     "text": [
      "Enter the number of digits you want to generate after the decimal point: 12\n",
      "3.14159265359\n"
     ]
    }
   ],
   "source": [
    "def calcipi (your_num):         # defining a function to give pi value up to the decimal places you have entered\n",
    "    somepi=round(math.pi,your_num)   # Using round method to get required decimal places\n",
    "    return somepi    \n",
    "\n",
    "round_pi=input(\"Enter the number of digits you want to generate after the decimal point: \")  # User Input\n",
    "    \n",
    "try:\n",
    "    round_pi_num=int(round_pi)    # user input stored in string type so converting it into integer type\n",
    "    \n",
    "    if round_pi_num > 15:         # Setting a limit\n",
    "        print('You are not allowed to go above the limit of 15 decimal places')\n",
    "      \n",
    "    else:\n",
    "        print(calcipi(round_pi_num))     # Printing the result\n",
    "\n",
    "except:\n",
    "    print('You have not enter an integer number!')   # If user haven't type an integer number \n",
    "\n"
   ]
  },
  {
   "cell_type": "code",
   "execution_count": 89,
   "metadata": {},
   "outputs": [],
   "source": [
    "# In above program you can only get pi value upto the 15th decimal place"
   ]
  },
  {
   "cell_type": "code",
   "execution_count": 27,
   "metadata": {},
   "outputs": [],
   "source": [
    "\n",
    "result=f'{math.pi:1.50f}'   # getting value of pi upto the 50th decimal place\n",
    "pi_value_list=list(result)  # Here we have enclose this string into a list"
   ]
  },
  {
   "cell_type": "code",
   "execution_count": 40,
   "metadata": {},
   "outputs": [
    {
     "name": "stdout",
     "output_type": "stream",
     "text": [
      "Enter the number of digits you want to generate after the decimal point in pi value: 26\n",
      "3.1415926535897931159979634\n"
     ]
    }
   ],
   "source": [
    "my_pi_value=[]      # empty list\n",
    "your_num=input('Enter the number of digits you want to generate after the decimal point in pi value: ')  # User input\n",
    "try:        # using try and except method in case user haven't enter an integer value \n",
    "    round_pi=int(your_num)   # converting string into an integer\n",
    "    if round_pi > 50:        # setting a limit\n",
    "        print('You are not allowed to go above the limit of 50 decimal palces')\n",
    "    else:            # if condition meets with desired user input \n",
    "        for i in range(round_pi+1):     \n",
    "            my_pi_value.append(pi_value_list[i])    # appending value \n",
    "except:\n",
    "    print('You have not enter an integer number!')      \n",
    "pi_value=''.join(my_pi_value)       # converting our array into a single string with help of .join method\n",
    "print(pi_value)       # printing pi value"
   ]
  },
  {
   "cell_type": "code",
   "execution_count": null,
   "metadata": {},
   "outputs": [],
   "source": []
  },
  {
   "cell_type": "code",
   "execution_count": null,
   "metadata": {},
   "outputs": [],
   "source": []
  },
  {
   "cell_type": "code",
   "execution_count": null,
   "metadata": {},
   "outputs": [],
   "source": []
  }
 ],
 "metadata": {
  "kernelspec": {
   "display_name": "Python 3",
   "language": "python",
   "name": "python3"
  },
  "language_info": {
   "codemirror_mode": {
    "name": "ipython",
    "version": 3
   },
   "file_extension": ".py",
   "mimetype": "text/x-python",
   "name": "python",
   "nbconvert_exporter": "python",
   "pygments_lexer": "ipython3",
   "version": "3.7.3"
  }
 },
 "nbformat": 4,
 "nbformat_minor": 2
}
