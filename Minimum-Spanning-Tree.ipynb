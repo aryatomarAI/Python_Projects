{
 "cells": [
  {
   "cell_type": "code",
   "execution_count": 1,
   "metadata": {},
   "outputs": [],
   "source": [
    "# This program take connected, undirected graph and give back minimum spanning tree of the graph, contains all the vertices, \n",
    "# and the sum of its weights is the least possible"
   ]
  },
  {
   "cell_type": "code",
   "execution_count": 2,
   "metadata": {},
   "outputs": [],
   "source": [
    "# I am using prims algorithm to find MST of the graph"
   ]
  },
  {
   "cell_type": "code",
   "execution_count": 3,
   "metadata": {},
   "outputs": [],
   "source": [
    "# In spanning tree the number of maximum edges will be equals to no of vertices in graph minus 1"
   ]
  },
  {
   "cell_type": "code",
   "execution_count": 22,
   "metadata": {},
   "outputs": [],
   "source": [
    "# Function to check if given graph is connected or not \n",
    "\n",
    "def connected_or_not(graph):\n",
    "    g=list(graph)\n",
    "    starting_node=g[0]\n",
    "    color={v:'white' for v in g}\n",
    "    color[starting_node]='grey'\n",
    "    s=[starting_node]\n",
    "    while len(s) !=0:\n",
    "        u=s.pop(0)\n",
    "        for w in graph[u]:\n",
    "            if color[w]=='white':\n",
    "                color[w]='grey'\n",
    "                s.append(w)\n",
    "            else:\n",
    "                pass\n",
    "            color[u]='black'\n",
    "    return list(color.values()).count('black')==len(g)"
   ]
  },
  {
   "cell_type": "code",
   "execution_count": 23,
   "metadata": {},
   "outputs": [
    {
     "data": {
      "text/plain": [
       "True"
      ]
     },
     "execution_count": 23,
     "metadata": {},
     "output_type": "execute_result"
    }
   ],
   "source": [
    "graph={1:[2,4],2:[3,5,6],3:[2,6,4],4:[1,3],5:[2],6:[2,3]}\n",
    "connected_or_not(graph)"
   ]
  },
  {
   "cell_type": "code",
   "execution_count": null,
   "metadata": {},
   "outputs": [],
   "source": []
  },
  {
   "cell_type": "code",
   "execution_count": null,
   "metadata": {},
   "outputs": [],
   "source": []
  }
 ],
 "metadata": {
  "kernelspec": {
   "display_name": "Python 3",
   "language": "python",
   "name": "python3"
  },
  "language_info": {
   "codemirror_mode": {
    "name": "ipython",
    "version": 3
   },
   "file_extension": ".py",
   "mimetype": "text/x-python",
   "name": "python",
   "nbconvert_exporter": "python",
   "pygments_lexer": "ipython3",
   "version": "3.7.3"
  }
 },
 "nbformat": 4,
 "nbformat_minor": 2
}
