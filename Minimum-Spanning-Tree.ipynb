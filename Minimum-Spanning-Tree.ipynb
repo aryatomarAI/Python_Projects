{
 "cells": [
  {
   "cell_type": "code",
   "execution_count": 1,
   "metadata": {},
   "outputs": [],
   "source": [
    "# This program take connected, undirected graph and give back minimum spanning tree of the graph, contains all the vertices, \n",
    "# and the sum of its weights is the least possible"
   ]
  },
  {
   "cell_type": "code",
   "execution_count": 2,
   "metadata": {},
   "outputs": [],
   "source": [
    "# I am using prims algorithm to find MST of the graph"
   ]
  },
  {
   "cell_type": "code",
   "execution_count": 3,
   "metadata": {},
   "outputs": [],
   "source": [
    "# In spanning tree the number of maximum edges will be equals to no of vertices in graph minus 1"
   ]
  },
  {
   "cell_type": "code",
   "execution_count": 23,
   "metadata": {},
   "outputs": [],
   "source": [
    "# Function to check if given graph is connected or not \n",
    "\n",
    "def connected_or_not(graph):\n",
    "    g=list(graph)\n",
    "    starting_node=g[0]\n",
    "    color={v:'white' for v in g}\n",
    "    color[starting_node]='grey'\n",
    "    s=[starting_node]\n",
    "    while len(s) !=0:\n",
    "        u=s.pop(0)\n",
    "        for w in graph[u]:\n",
    "            if color[w]=='white':\n",
    "                color[w]='grey'\n",
    "                s.append(w)\n",
    "            else:\n",
    "                pass\n",
    "            color[u]='black'\n",
    "    return list(color.values()).count('black')==len(g)"
   ]
  },
  {
   "cell_type": "code",
   "execution_count": 24,
   "metadata": {},
   "outputs": [
    {
     "data": {
      "text/plain": [
       "True"
      ]
     },
     "execution_count": 24,
     "metadata": {},
     "output_type": "execute_result"
    }
   ],
   "source": [
    "graph={1:[2,4],2:[3,5,6],3:[2,6,4],4:[1,3],5:[2],6:[2,3]}\n",
    "connected_or_not(graph)"
   ]
  },
  {
   "cell_type": "code",
   "execution_count": 25,
   "metadata": {},
   "outputs": [],
   "source": [
    "# Function to find all edges of the minimum spanning tree in the graph \n",
    "\n",
    "def mst(graph,link_weights):   \n",
    "    g=list(graph)   # list of graph nodes or vertices\n",
    "    \n",
    "    unvisited_node=[e for e in g]   # list of unvisited nodes\n",
    "    distance=float('inf')       # value of distance variable which is infinity\n",
    "    \n",
    "    for i in link_weights:       # for finding the edge or link with has the minimum cost\n",
    "        if link_weights[i]<distance:\n",
    "            distance=link_weights[i]\n",
    "            start_link=i\n",
    "            \n",
    "    starting_node=start_link[0] # Our starting node \n",
    "    \n",
    "    s=[starting_node]  # list of starting node\n",
    "    \n",
    "    unvisited_node.remove(starting_node) # remove that node from the unvisited nodes list when you reach that node\n",
    "    \n",
    "    trail=[]      # minimum Spanning tree edges, initially empty\n",
    "    \n",
    "    distance=float('inf')   \n",
    "    \n",
    "    for n in graph[starting_node]:   # To find our first edge of the minimum spanning tree\n",
    "        if link_weights[(starting_node,n)]<distance:   \n",
    "            distance=link_weights[(starting_node,n)]\n",
    "            link1=(starting_node,n)\n",
    "    \n",
    "    trail.append(link1)\n",
    "    \n",
    "    s.append(link1[1]) # append that edge's second vertice to the starting_node's list\n",
    "    \n",
    "    unvisited_node.remove(link1[1])\n",
    "    \n",
    "    while len(unvisited_node)!=0: # Loop runs untill length of unvisited_node list becomes zero\n",
    "        distance=float('inf')\n",
    "        \n",
    "        for u in s:  # we will choose our starting node from the two ends of the trail\n",
    "            for y in graph[u]:\n",
    "                if y in unvisited_node:\n",
    "                    if link_weights[(u,y)]<distance:\n",
    "                        distance=link_weights[(u,y)]\n",
    "                        link=(u,y)\n",
    "                        \n",
    "                    else:\n",
    "                        pass\n",
    "                else:\n",
    "                    pass\n",
    "                \n",
    "        s.append(link[1])\n",
    "        s.remove(link[0])\n",
    "        \n",
    "        unvisited_node.remove(link[1])\n",
    "        trail.append((link[0],link[1]))\n",
    "        \n",
    "    return trail\n",
    "                    \n",
    "        \n",
    "    \n",
    "            \n",
    "            \n",
    "        \n",
    "        \n",
    "        \n",
    "    \n",
    "    \n",
    "    \n",
    "    \n",
    "    \n",
    "    "
   ]
  },
  {
   "cell_type": "code",
   "execution_count": 26,
   "metadata": {},
   "outputs": [],
   "source": [
    "# our main program\n",
    "def main(graph,edge_weight):\n",
    "    \n",
    "    if not connected_or_not:  # if given graph is not a connected graph\n",
    "        print('This is not a connected graph')\n",
    "    else:       # if it's a connected graph\n",
    "        t=mst(graph,edge_weight)\n",
    "        \n",
    "    print(f'Connected Edges or links in our minimum spanning tree are: {t}') # printing all the nodes of our mst\n",
    "    \n",
    "    value=0\n",
    "    \n",
    "    for i in t:   # to find the cost of our mst\n",
    "        value=value+edge_weight[i]\n",
    "        \n",
    "    print(f'Cost of our minimum spanning tree: {value}')\n",
    "    \n"
   ]
  },
  {
   "cell_type": "code",
   "execution_count": 27,
   "metadata": {},
   "outputs": [
    {
     "name": "stdout",
     "output_type": "stream",
     "text": [
      "Connected Edges or links in our minimum spanning tree are: [(3, 4), (3, 1), (4, 6), (6, 5), (1, 2)]\n",
      "Cost of our minimum spanning tree: 31\n"
     ]
    }
   ],
   "source": [
    "graph={1:[2,3],3:[1,4,2,5],2:[1,3,4],4:[2,3,5,6],5:[3,4,6],6:[4,5]}\n",
    "edge_weight={(1,2):9,(2,1):9,(1,3):4,(3,1):4,(2,3):6,(3,2):6,(2,4):10,(4,2):10,(3,4):3,(4,3):3,(3,5):7,(5,3):7,(5,6):8,(6,5):8,(5,4):8,(4,5):8,(4,6):7,(6,4):7}\n",
    "main(graph,edge_weight)"
   ]
  },
  {
   "cell_type": "code",
   "execution_count": null,
   "metadata": {},
   "outputs": [],
   "source": []
  }
 ],
 "metadata": {
  "kernelspec": {
   "display_name": "Python 3",
   "language": "python",
   "name": "python3"
  },
  "language_info": {
   "codemirror_mode": {
    "name": "ipython",
    "version": 3
   },
   "file_extension": ".py",
   "mimetype": "text/x-python",
   "name": "python",
   "nbconvert_exporter": "python",
   "pygments_lexer": "ipython3",
   "version": "3.7.3"
  }
 },
 "nbformat": 4,
 "nbformat_minor": 2
}
