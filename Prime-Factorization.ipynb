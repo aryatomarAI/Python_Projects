{
 "cells": [
  {
   "cell_type": "code",
   "execution_count": 4,
   "metadata": {},
   "outputs": [],
   "source": [
    "# In this program you to find all the prime factors of a number given by the user\n",
    "import math"
   ]
  },
  {
   "cell_type": "code",
   "execution_count": 5,
   "metadata": {},
   "outputs": [
    {
     "name": "stdout",
     "output_type": "stream",
     "text": [
      "Enter a number to find its prime factors: 23\n"
     ]
    }
   ],
   "source": [
    "num=input('Enter a number to find its prime factors: ')"
   ]
  },
  {
   "cell_type": "code",
   "execution_count": 26,
   "metadata": {},
   "outputs": [
    {
     "name": "stdout",
     "output_type": "stream",
     "text": [
      "Enter a number to find its prime factors: 40\n",
      "Your prime factors are: \n",
      "2\n",
      "2\n",
      "2\n",
      "5.0\n"
     ]
    }
   ],
   "source": [
    "num=input('Enter a number to find its prime factors: ')\n",
    "\n",
    "try:\n",
    "    n=int(num)\n",
    "    if n <=1:\n",
    "        print('Number should be above 1')\n",
    "\n",
    "    else:\n",
    "        print('Your prime factors are: ')\n",
    "        while (n%2)==0:\n",
    "            print('2')\n",
    "            n=n/2\n",
    "        \n",
    "        for i in range(3,int(math.sqrt(n))+1,2):\n",
    "            while (n%i)==0:\n",
    "                print(i)\n",
    "                n=n/i\n",
    "        if n > 2:\n",
    "            print(n)\n",
    "except:\n",
    "    print('This is not a number')"
   ]
  },
  {
   "cell_type": "code",
   "execution_count": null,
   "metadata": {},
   "outputs": [],
   "source": []
  },
  {
   "cell_type": "code",
   "execution_count": null,
   "metadata": {},
   "outputs": [],
   "source": []
  }
 ],
 "metadata": {
  "kernelspec": {
   "display_name": "Python 3",
   "language": "python",
   "name": "python3"
  },
  "language_info": {
   "codemirror_mode": {
    "name": "ipython",
    "version": 3
   },
   "file_extension": ".py",
   "mimetype": "text/x-python",
   "name": "python",
   "nbconvert_exporter": "python",
   "pygments_lexer": "ipython3",
   "version": "3.7.3"
  }
 },
 "nbformat": 4,
 "nbformat_minor": 2
}
