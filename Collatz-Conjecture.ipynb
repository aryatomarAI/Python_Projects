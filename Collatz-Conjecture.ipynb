{
 "cells": [
  {
   "cell_type": "code",
   "execution_count": 1,
   "metadata": {},
   "outputs": [],
   "source": [
    "# Start with a number *n > 1*. Find the number of steps it takes to reach one using the following process: If *n* is even, \n",
    "# divide it by 2. If *n* is odd, multiply it by 3 and add 1"
   ]
  },
  {
   "cell_type": "code",
   "execution_count": 18,
   "metadata": {},
   "outputs": [],
   "source": [
    "def col_con(number):\n",
    "    if number%2==0:\n",
    "        number=number/2\n",
    "    else:\n",
    "        number=number*3 + 1\n",
    "        \n",
    "    return number"
   ]
  },
  {
   "cell_type": "code",
   "execution_count": 19,
   "metadata": {},
   "outputs": [],
   "source": [
    "def main():\n",
    "    count=0\n",
    "    number=int(input('Enter a number: '))\n",
    "    if number <=1:\n",
    "        print(f'No of steps this number takes to reach 1 following collatz conjection is {count}') \n",
    "    else:\n",
    "        while number !=1:\n",
    "            number=col_con(number)\n",
    "            count=count+1\n",
    "        print(f'Number of steps this number takes to reach 1 following collatz conjection is {count}')     \n",
    "        \n",
    "        "
   ]
  },
  {
   "cell_type": "code",
   "execution_count": 23,
   "metadata": {},
   "outputs": [
    {
     "name": "stdout",
     "output_type": "stream",
     "text": [
      "Enter a number: 6\n",
      "Number of steps this number takes to reach 1 following collatz conjection is 8\n"
     ]
    }
   ],
   "source": [
    "main()"
   ]
  },
  {
   "cell_type": "code",
   "execution_count": null,
   "metadata": {},
   "outputs": [],
   "source": []
  }
 ],
 "metadata": {
  "kernelspec": {
   "display_name": "Python 3",
   "language": "python",
   "name": "python3"
  },
  "language_info": {
   "codemirror_mode": {
    "name": "ipython",
    "version": 3
   },
   "file_extension": ".py",
   "mimetype": "text/x-python",
   "name": "python",
   "nbconvert_exporter": "python",
   "pygments_lexer": "ipython3",
   "version": "3.7.3"
  }
 },
 "nbformat": 4,
 "nbformat_minor": 2
}
